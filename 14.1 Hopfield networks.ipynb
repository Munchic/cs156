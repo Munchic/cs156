{
 "cells": [
  {
   "cell_type": "code",
   "execution_count": 1,
   "metadata": {},
   "outputs": [],
   "source": [
    "import numpy as np"
   ]
  },
  {
   "cell_type": "code",
   "execution_count": 3,
   "metadata": {},
   "outputs": [],
   "source": [
    "class Hopfield:\n",
    "    def __init__(size):\n",
    "        self.size = size\n",
    "        self.w_matrix = np.zeros((size, size))\n",
    "        self.memories = []\n",
    "        \n",
    "    def add_memory(vect):\n",
    "        if length(vect) != size:\n",
    "            print('Wrong size!')\n",
    "        else:\n",
    "            self.w_matrix = np.zeros((size, size))\n",
    "            self.memories.append(vect)\n",
    "            \n",
    "            for mem in self.memories:\n",
    "                for i in range(len(mem)):\n",
    "                    for j in range(len(mem)):\n",
    "                        self.w_matrix += mem[i] * mem[j]\n",
    "            \n",
    "            self.w_matrix.diagonals = np.zeros(self.size)\n",
    "            self.w_matrix /= (1 / len(self.memories))\n",
    "            \n",
    "    def activation(a):\n",
    "        if a >= 0:\n",
    "            return 1\n",
    "        else:\n",
    "            return -1\n",
    "                        \n",
    "    def recall(corrupt_vect):\n",
    "        cur = corrupt_vect\n",
    "        iteration = 0\n",
    "        \n",
    "        while cur not in self.memories or iteration < 500:\n",
    "            activations = np.zeros(len(cur))\n",
    "            for i in range(len(cur)):\n",
    "                activ = sum(self.w_matrix[i][j] * cur[i] for j in range(self.size))\n",
    "                cur[i] = activation(activ)\n",
    "                \n",
    "        if cur in self.memories:\n",
    "            return find(cur, self.memories)\n",
    "        else:\n",
    "            return -1\n",
    "                \n",
    "    def check_cap():\n",
    "        random_mem = np.random.random()"
   ]
  },
  {
   "cell_type": "code",
   "execution_count": null,
   "metadata": {},
   "outputs": [],
   "source": []
  }
 ],
 "metadata": {
  "kernelspec": {
   "display_name": "Python 3",
   "language": "python",
   "name": "python3"
  },
  "language_info": {
   "codemirror_mode": {
    "name": "ipython",
    "version": 3
   },
   "file_extension": ".py",
   "mimetype": "text/x-python",
   "name": "python",
   "nbconvert_exporter": "python",
   "pygments_lexer": "ipython3",
   "version": "3.6.5"
  }
 },
 "nbformat": 4,
 "nbformat_minor": 2
}
