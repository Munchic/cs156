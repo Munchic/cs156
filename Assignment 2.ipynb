{
 "cells": [
  {
   "cell_type": "markdown",
   "metadata": {},
   "source": [
    "# Assignment 2"
   ]
  },
  {
   "cell_type": "code",
   "execution_count": 7,
   "metadata": {},
   "outputs": [],
   "source": [
    "import pandas as pd\n",
    "\n",
    "acc_loans = pd.read_csv('as2/loan_stats.csv', low_memory=False)\n",
    "dec_loans = pd.read_csv('as2/reject_stats.csv', low_memory=False)"
   ]
  },
  {
   "cell_type": "markdown",
   "metadata": {},
   "source": [
    "## Part 1: Data cleaning\n",
    "**Step 0**: Checking that data loaded properly"
   ]
  },
  {
   "cell_type": "code",
   "execution_count": 8,
   "metadata": {},
   "outputs": [
    {
     "data": {
      "text/html": [
       "<div>\n",
       "<style scoped>\n",
       "    .dataframe tbody tr th:only-of-type {\n",
       "        vertical-align: middle;\n",
       "    }\n",
       "\n",
       "    .dataframe tbody tr th {\n",
       "        vertical-align: top;\n",
       "    }\n",
       "\n",
       "    .dataframe thead th {\n",
       "        text-align: right;\n",
       "    }\n",
       "</style>\n",
       "<table border=\"1\" class=\"dataframe\">\n",
       "  <thead>\n",
       "    <tr style=\"text-align: right;\">\n",
       "      <th></th>\n",
       "      <th>id</th>\n",
       "      <th>member_id</th>\n",
       "      <th>loan_amnt</th>\n",
       "      <th>funded_amnt</th>\n",
       "      <th>funded_amnt_inv</th>\n",
       "      <th>term</th>\n",
       "      <th>int_rate</th>\n",
       "      <th>installment</th>\n",
       "      <th>grade</th>\n",
       "      <th>sub_grade</th>\n",
       "      <th>...</th>\n",
       "      <th>hardship_payoff_balance_amount</th>\n",
       "      <th>hardship_last_payment_amount</th>\n",
       "      <th>disbursement_method</th>\n",
       "      <th>debt_settlement_flag</th>\n",
       "      <th>debt_settlement_flag_date</th>\n",
       "      <th>settlement_status</th>\n",
       "      <th>settlement_date</th>\n",
       "      <th>settlement_amount</th>\n",
       "      <th>settlement_percentage</th>\n",
       "      <th>settlement_term</th>\n",
       "    </tr>\n",
       "  </thead>\n",
       "  <tbody>\n",
       "    <tr>\n",
       "      <th>0</th>\n",
       "      <td>NaN</td>\n",
       "      <td>NaN</td>\n",
       "      <td>5000.0</td>\n",
       "      <td>5000.0</td>\n",
       "      <td>4975.0</td>\n",
       "      <td>36 months</td>\n",
       "      <td>10.65%</td>\n",
       "      <td>162.87</td>\n",
       "      <td>B</td>\n",
       "      <td>B2</td>\n",
       "      <td>...</td>\n",
       "      <td>NaN</td>\n",
       "      <td>NaN</td>\n",
       "      <td>Cash</td>\n",
       "      <td>N</td>\n",
       "      <td>NaN</td>\n",
       "      <td>NaN</td>\n",
       "      <td>NaN</td>\n",
       "      <td>NaN</td>\n",
       "      <td>NaN</td>\n",
       "      <td>NaN</td>\n",
       "    </tr>\n",
       "    <tr>\n",
       "      <th>1</th>\n",
       "      <td>NaN</td>\n",
       "      <td>NaN</td>\n",
       "      <td>2500.0</td>\n",
       "      <td>2500.0</td>\n",
       "      <td>2500.0</td>\n",
       "      <td>60 months</td>\n",
       "      <td>15.27%</td>\n",
       "      <td>59.83</td>\n",
       "      <td>C</td>\n",
       "      <td>C4</td>\n",
       "      <td>...</td>\n",
       "      <td>NaN</td>\n",
       "      <td>NaN</td>\n",
       "      <td>Cash</td>\n",
       "      <td>N</td>\n",
       "      <td>NaN</td>\n",
       "      <td>NaN</td>\n",
       "      <td>NaN</td>\n",
       "      <td>NaN</td>\n",
       "      <td>NaN</td>\n",
       "      <td>NaN</td>\n",
       "    </tr>\n",
       "    <tr>\n",
       "      <th>2</th>\n",
       "      <td>NaN</td>\n",
       "      <td>NaN</td>\n",
       "      <td>2400.0</td>\n",
       "      <td>2400.0</td>\n",
       "      <td>2400.0</td>\n",
       "      <td>36 months</td>\n",
       "      <td>15.96%</td>\n",
       "      <td>84.33</td>\n",
       "      <td>C</td>\n",
       "      <td>C5</td>\n",
       "      <td>...</td>\n",
       "      <td>NaN</td>\n",
       "      <td>NaN</td>\n",
       "      <td>Cash</td>\n",
       "      <td>N</td>\n",
       "      <td>NaN</td>\n",
       "      <td>NaN</td>\n",
       "      <td>NaN</td>\n",
       "      <td>NaN</td>\n",
       "      <td>NaN</td>\n",
       "      <td>NaN</td>\n",
       "    </tr>\n",
       "  </tbody>\n",
       "</table>\n",
       "<p>3 rows × 145 columns</p>\n",
       "</div>"
      ],
      "text/plain": [
       "    id  member_id  loan_amnt  funded_amnt  funded_amnt_inv       term  \\\n",
       "0  NaN        NaN     5000.0       5000.0           4975.0  36 months   \n",
       "1  NaN        NaN     2500.0       2500.0           2500.0  60 months   \n",
       "2  NaN        NaN     2400.0       2400.0           2400.0  36 months   \n",
       "\n",
       "  int_rate  installment grade sub_grade       ...        \\\n",
       "0   10.65%       162.87     B        B2       ...         \n",
       "1   15.27%        59.83     C        C4       ...         \n",
       "2   15.96%        84.33     C        C5       ...         \n",
       "\n",
       "  hardship_payoff_balance_amount hardship_last_payment_amount  \\\n",
       "0                            NaN                          NaN   \n",
       "1                            NaN                          NaN   \n",
       "2                            NaN                          NaN   \n",
       "\n",
       "  disbursement_method  debt_settlement_flag debt_settlement_flag_date  \\\n",
       "0                Cash                     N                       NaN   \n",
       "1                Cash                     N                       NaN   \n",
       "2                Cash                     N                       NaN   \n",
       "\n",
       "  settlement_status settlement_date settlement_amount  settlement_percentage  \\\n",
       "0               NaN             NaN               NaN                    NaN   \n",
       "1               NaN             NaN               NaN                    NaN   \n",
       "2               NaN             NaN               NaN                    NaN   \n",
       "\n",
       "  settlement_term  \n",
       "0             NaN  \n",
       "1             NaN  \n",
       "2             NaN  \n",
       "\n",
       "[3 rows x 145 columns]"
      ]
     },
     "execution_count": 8,
     "metadata": {},
     "output_type": "execute_result"
    }
   ],
   "source": [
    "acc_loans.head(3)"
   ]
  },
  {
   "cell_type": "code",
   "execution_count": 59,
   "metadata": {},
   "outputs": [
    {
     "data": {
      "text/html": [
       "<div>\n",
       "<style scoped>\n",
       "    .dataframe tbody tr th:only-of-type {\n",
       "        vertical-align: middle;\n",
       "    }\n",
       "\n",
       "    .dataframe tbody tr th {\n",
       "        vertical-align: top;\n",
       "    }\n",
       "\n",
       "    .dataframe thead th {\n",
       "        text-align: right;\n",
       "    }\n",
       "</style>\n",
       "<table border=\"1\" class=\"dataframe\">\n",
       "  <thead>\n",
       "    <tr style=\"text-align: right;\">\n",
       "      <th></th>\n",
       "      <th>Amount Requested</th>\n",
       "      <th>Application Date</th>\n",
       "      <th>Debt-To-Income Ratio</th>\n",
       "      <th>State</th>\n",
       "      <th>Employment Length</th>\n",
       "      <th>Policy Code</th>\n",
       "    </tr>\n",
       "  </thead>\n",
       "  <tbody>\n",
       "    <tr>\n",
       "      <th>0</th>\n",
       "      <td>1000.0</td>\n",
       "      <td>2007-05-26</td>\n",
       "      <td>10.0</td>\n",
       "      <td>NM</td>\n",
       "      <td>4 years</td>\n",
       "      <td>0</td>\n",
       "    </tr>\n",
       "    <tr>\n",
       "      <th>1</th>\n",
       "      <td>1000.0</td>\n",
       "      <td>2007-05-26</td>\n",
       "      <td>10.0</td>\n",
       "      <td>MA</td>\n",
       "      <td>&lt; 1 year</td>\n",
       "      <td>0</td>\n",
       "    </tr>\n",
       "    <tr>\n",
       "      <th>2</th>\n",
       "      <td>11000.0</td>\n",
       "      <td>2007-05-27</td>\n",
       "      <td>10.0</td>\n",
       "      <td>MD</td>\n",
       "      <td>1 year</td>\n",
       "      <td>0</td>\n",
       "    </tr>\n",
       "  </tbody>\n",
       "</table>\n",
       "</div>"
      ],
      "text/plain": [
       "   Amount Requested Application Date  Debt-To-Income Ratio State  \\\n",
       "0            1000.0       2007-05-26                  10.0    NM   \n",
       "1            1000.0       2007-05-26                  10.0    MA   \n",
       "2           11000.0       2007-05-27                  10.0    MD   \n",
       "\n",
       "  Employment Length  Policy Code  \n",
       "0           4 years            0  \n",
       "1          < 1 year            0  \n",
       "2            1 year            0  "
      ]
     },
     "execution_count": 59,
     "metadata": {},
     "output_type": "execute_result"
    }
   ],
   "source": [
    "dec_loans.head(3)"
   ]
  },
  {
   "cell_type": "markdown",
   "metadata": {},
   "source": [
    "**Step 1**: Let's first see which columns we should omit in both data frames to remove so that we could merge these two dataframes"
   ]
  },
  {
   "cell_type": "code",
   "execution_count": 10,
   "metadata": {},
   "outputs": [
    {
     "name": "stdout",
     "output_type": "stream",
     "text": [
      "Column names available for accepted loans data:\n",
      "id, member_id, loan_amnt, funded_amnt, funded_amnt_inv, term, int_rate, installment, grade, sub_grade, emp_title, emp_length, home_ownership, annual_inc, verification_status, issue_d, loan_status, pymnt_plan, url, desc, purpose, title, zip_code, addr_state, dti, delinq_2yrs, earliest_cr_line, inq_last_6mths, mths_since_last_delinq, mths_since_last_record, open_acc, pub_rec, revol_bal, revol_util, total_acc, initial_list_status, out_prncp, out_prncp_inv, total_pymnt, total_pymnt_inv, total_rec_prncp, total_rec_int, total_rec_late_fee, recoveries, collection_recovery_fee, last_pymnt_d, last_pymnt_amnt, next_pymnt_d, last_credit_pull_d, collections_12_mths_ex_med, mths_since_last_major_derog, policy_code, application_type, annual_inc_joint, dti_joint, verification_status_joint, acc_now_delinq, tot_coll_amt, tot_cur_bal, open_acc_6m, open_act_il, open_il_12m, open_il_24m, mths_since_rcnt_il, total_bal_il, il_util, open_rv_12m, open_rv_24m, max_bal_bc, all_util, total_rev_hi_lim, inq_fi, total_cu_tl, inq_last_12m, acc_open_past_24mths, avg_cur_bal, bc_open_to_buy, bc_util, chargeoff_within_12_mths, delinq_amnt, mo_sin_old_il_acct, mo_sin_old_rev_tl_op, mo_sin_rcnt_rev_tl_op, mo_sin_rcnt_tl, mort_acc, mths_since_recent_bc, mths_since_recent_bc_dlq, mths_since_recent_inq, mths_since_recent_revol_delinq, num_accts_ever_120_pd, num_actv_bc_tl, num_actv_rev_tl, num_bc_sats, num_bc_tl, num_il_tl, num_op_rev_tl, num_rev_accts, num_rev_tl_bal_gt_0, num_sats, num_tl_120dpd_2m, num_tl_30dpd, num_tl_90g_dpd_24m, num_tl_op_past_12m, pct_tl_nvr_dlq, percent_bc_gt_75, pub_rec_bankruptcies, tax_liens, tot_hi_cred_lim, total_bal_ex_mort, total_bc_limit, total_il_high_credit_limit, revol_bal_joint, sec_app_earliest_cr_line, sec_app_inq_last_6mths, sec_app_mort_acc, sec_app_open_acc, sec_app_revol_util, sec_app_open_act_il, sec_app_num_rev_accts, sec_app_chargeoff_within_12_mths, sec_app_collections_12_mths_ex_med, sec_app_mths_since_last_major_derog, hardship_flag, hardship_type, hardship_reason, hardship_status, deferral_term, hardship_amount, hardship_start_date, hardship_end_date, payment_plan_start_date, hardship_length, hardship_dpd, hardship_loan_status, orig_projected_additional_accrued_interest, hardship_payoff_balance_amount, hardship_last_payment_amount, disbursement_method, debt_settlement_flag, debt_settlement_flag_date, settlement_status, settlement_date, settlement_amount, settlement_percentage, settlement_term\n",
      "\n",
      "Column names available for declined loans data:\n",
      "Amount Requested, Application Date, Loan Title, Risk_Score, Debt-To-Income Ratio, Zip Code, State, Employment Length, Policy Code\n"
     ]
    }
   ],
   "source": [
    "# acc_loans = acc_loans.drop(['id', 'member_id'], axis=1)\n",
    "print(\"Column names available for accepted loans data:\")\n",
    "print(\", \".join(list(acc_loans)))\n",
    "\n",
    "print(\"\\nColumn names available for declined loans data:\")\n",
    "print(\", \".join(list(dec_loans)))"
   ]
  },
  {
   "cell_type": "markdown",
   "metadata": {},
   "source": [
    "**Step 2**: Since the column names are encoded differently, we will hand-pick which column names carry the same information and rename to the same format"
   ]
  },
  {
   "cell_type": "code",
   "execution_count": 11,
   "metadata": {},
   "outputs": [
    {
     "data": {
      "text/html": [
       "<div>\n",
       "<style scoped>\n",
       "    .dataframe tbody tr th:only-of-type {\n",
       "        vertical-align: middle;\n",
       "    }\n",
       "\n",
       "    .dataframe tbody tr th {\n",
       "        vertical-align: top;\n",
       "    }\n",
       "\n",
       "    .dataframe thead th {\n",
       "        text-align: right;\n",
       "    }\n",
       "</style>\n",
       "<table border=\"1\" class=\"dataframe\">\n",
       "  <thead>\n",
       "    <tr style=\"text-align: right;\">\n",
       "      <th></th>\n",
       "      <th>Amount Requested</th>\n",
       "      <th>Application Date</th>\n",
       "      <th>Debt-To-Income Ratio</th>\n",
       "      <th>State</th>\n",
       "      <th>Employment Length</th>\n",
       "      <th>Policy Code</th>\n",
       "    </tr>\n",
       "  </thead>\n",
       "  <tbody>\n",
       "    <tr>\n",
       "      <th>0</th>\n",
       "      <td>5000.0</td>\n",
       "      <td>Dec-2011</td>\n",
       "      <td>27.65</td>\n",
       "      <td>AZ</td>\n",
       "      <td>10+ years</td>\n",
       "      <td>1.0</td>\n",
       "    </tr>\n",
       "    <tr>\n",
       "      <th>1</th>\n",
       "      <td>2500.0</td>\n",
       "      <td>Dec-2011</td>\n",
       "      <td>1.00</td>\n",
       "      <td>GA</td>\n",
       "      <td>&lt; 1 year</td>\n",
       "      <td>1.0</td>\n",
       "    </tr>\n",
       "    <tr>\n",
       "      <th>2</th>\n",
       "      <td>2400.0</td>\n",
       "      <td>Dec-2011</td>\n",
       "      <td>8.72</td>\n",
       "      <td>IL</td>\n",
       "      <td>10+ years</td>\n",
       "      <td>1.0</td>\n",
       "    </tr>\n",
       "    <tr>\n",
       "      <th>3</th>\n",
       "      <td>10000.0</td>\n",
       "      <td>Dec-2011</td>\n",
       "      <td>20.00</td>\n",
       "      <td>CA</td>\n",
       "      <td>10+ years</td>\n",
       "      <td>1.0</td>\n",
       "    </tr>\n",
       "    <tr>\n",
       "      <th>4</th>\n",
       "      <td>3000.0</td>\n",
       "      <td>Dec-2011</td>\n",
       "      <td>17.94</td>\n",
       "      <td>OR</td>\n",
       "      <td>1 year</td>\n",
       "      <td>1.0</td>\n",
       "    </tr>\n",
       "  </tbody>\n",
       "</table>\n",
       "</div>"
      ],
      "text/plain": [
       "   Amount Requested Application Date  Debt-To-Income Ratio State  \\\n",
       "0            5000.0         Dec-2011                 27.65    AZ   \n",
       "1            2500.0         Dec-2011                  1.00    GA   \n",
       "2            2400.0         Dec-2011                  8.72    IL   \n",
       "3           10000.0         Dec-2011                 20.00    CA   \n",
       "4            3000.0         Dec-2011                 17.94    OR   \n",
       "\n",
       "  Employment Length  Policy Code  \n",
       "0         10+ years          1.0  \n",
       "1          < 1 year          1.0  \n",
       "2         10+ years          1.0  \n",
       "3         10+ years          1.0  \n",
       "4            1 year          1.0  "
      ]
     },
     "execution_count": 11,
     "metadata": {},
     "output_type": "execute_result"
    }
   ],
   "source": [
    "acc_loans = acc_loans[['loan_amnt', 'issue_d', 'dti', 'addr_state', 'emp_length', 'policy_code']]\n",
    "\n",
    "# Rename columns to follow the more user-friendly format of the decline dataframe\n",
    "acc_loans.rename(index=str, inplace=True, columns={'loan_amnt': 'Amount Requested',\n",
    "                                                   'issue_d': 'Application Date',\n",
    "                                                   'dti': 'Debt-To-Income Ratio',\n",
    "                                                   'addr_state': 'State',\n",
    "                                                   'emp_length': 'Employment Length',\n",
    "                                                   'policy_code': 'Policy Code'\n",
    "                                                  })\n",
    "acc_loans.head() # sanity check"
   ]
  },
  {
   "cell_type": "markdown",
   "metadata": {},
   "source": [
    "In the declined loans table, we will drop loan title, risk score, and zip code because these features are not available in the accepted loans table, thus, they might bias the learning process (e.g., if there is loan title then it is a rejection)."
   ]
  },
  {
   "cell_type": "code",
   "execution_count": 12,
   "metadata": {},
   "outputs": [
    {
     "data": {
      "text/html": [
       "<div>\n",
       "<style scoped>\n",
       "    .dataframe tbody tr th:only-of-type {\n",
       "        vertical-align: middle;\n",
       "    }\n",
       "\n",
       "    .dataframe tbody tr th {\n",
       "        vertical-align: top;\n",
       "    }\n",
       "\n",
       "    .dataframe thead th {\n",
       "        text-align: right;\n",
       "    }\n",
       "</style>\n",
       "<table border=\"1\" class=\"dataframe\">\n",
       "  <thead>\n",
       "    <tr style=\"text-align: right;\">\n",
       "      <th></th>\n",
       "      <th>Amount Requested</th>\n",
       "      <th>Application Date</th>\n",
       "      <th>Debt-To-Income Ratio</th>\n",
       "      <th>State</th>\n",
       "      <th>Employment Length</th>\n",
       "      <th>Policy Code</th>\n",
       "    </tr>\n",
       "  </thead>\n",
       "  <tbody>\n",
       "    <tr>\n",
       "      <th>0</th>\n",
       "      <td>1000.0</td>\n",
       "      <td>2007-05-26</td>\n",
       "      <td>10%</td>\n",
       "      <td>NM</td>\n",
       "      <td>4 years</td>\n",
       "      <td>0</td>\n",
       "    </tr>\n",
       "    <tr>\n",
       "      <th>1</th>\n",
       "      <td>1000.0</td>\n",
       "      <td>2007-05-26</td>\n",
       "      <td>10%</td>\n",
       "      <td>MA</td>\n",
       "      <td>&lt; 1 year</td>\n",
       "      <td>0</td>\n",
       "    </tr>\n",
       "    <tr>\n",
       "      <th>2</th>\n",
       "      <td>11000.0</td>\n",
       "      <td>2007-05-27</td>\n",
       "      <td>10%</td>\n",
       "      <td>MD</td>\n",
       "      <td>1 year</td>\n",
       "      <td>0</td>\n",
       "    </tr>\n",
       "    <tr>\n",
       "      <th>3</th>\n",
       "      <td>6000.0</td>\n",
       "      <td>2007-05-27</td>\n",
       "      <td>38.64%</td>\n",
       "      <td>MA</td>\n",
       "      <td>&lt; 1 year</td>\n",
       "      <td>0</td>\n",
       "    </tr>\n",
       "    <tr>\n",
       "      <th>4</th>\n",
       "      <td>1500.0</td>\n",
       "      <td>2007-05-27</td>\n",
       "      <td>9.43%</td>\n",
       "      <td>MD</td>\n",
       "      <td>&lt; 1 year</td>\n",
       "      <td>0</td>\n",
       "    </tr>\n",
       "  </tbody>\n",
       "</table>\n",
       "</div>"
      ],
      "text/plain": [
       "   Amount Requested Application Date Debt-To-Income Ratio State  \\\n",
       "0            1000.0       2007-05-26                  10%    NM   \n",
       "1            1000.0       2007-05-26                  10%    MA   \n",
       "2           11000.0       2007-05-27                  10%    MD   \n",
       "3            6000.0       2007-05-27               38.64%    MA   \n",
       "4            1500.0       2007-05-27                9.43%    MD   \n",
       "\n",
       "  Employment Length  Policy Code  \n",
       "0           4 years            0  \n",
       "1          < 1 year            0  \n",
       "2            1 year            0  \n",
       "3          < 1 year            0  \n",
       "4          < 1 year            0  "
      ]
     },
     "execution_count": 12,
     "metadata": {},
     "output_type": "execute_result"
    }
   ],
   "source": [
    "dec_loans.drop(['Loan Title', 'Risk_Score', 'Zip Code'], axis=1, inplace=True)\n",
    "dec_loans.head() # sanity check"
   ]
  },
  {
   "cell_type": "markdown",
   "metadata": {},
   "source": [
    "**Step 3**: Fixing data format differences. In table of accepted loans, the debt-to-income ratio (DTI) should be in percentages because otherwise, the person with index 0 would loan 5000 and earn 27 times less which would definitely not qualify for a loan. Knowing that and that in the decline table, the DTI is written in percentages, we can just remove the percentage sign and covert the values to $float$ type. Another detail is that application date in the accepted table specifies only month and year, whereas the declined table specifies day as well, so we will put the day as $15$ (assuming that the day to loan is uniformly distributed) in the accepted loans table and convert everything to $datetime$ type."
   ]
  },
  {
   "cell_type": "code",
   "execution_count": 13,
   "metadata": {},
   "outputs": [
    {
     "data": {
      "text/html": [
       "<div>\n",
       "<style scoped>\n",
       "    .dataframe tbody tr th:only-of-type {\n",
       "        vertical-align: middle;\n",
       "    }\n",
       "\n",
       "    .dataframe tbody tr th {\n",
       "        vertical-align: top;\n",
       "    }\n",
       "\n",
       "    .dataframe thead th {\n",
       "        text-align: right;\n",
       "    }\n",
       "</style>\n",
       "<table border=\"1\" class=\"dataframe\">\n",
       "  <thead>\n",
       "    <tr style=\"text-align: right;\">\n",
       "      <th></th>\n",
       "      <th>Amount Requested</th>\n",
       "      <th>Application Date</th>\n",
       "      <th>Debt-To-Income Ratio</th>\n",
       "      <th>State</th>\n",
       "      <th>Employment Length</th>\n",
       "      <th>Policy Code</th>\n",
       "    </tr>\n",
       "  </thead>\n",
       "  <tbody>\n",
       "    <tr>\n",
       "      <th>0</th>\n",
       "      <td>1000.0</td>\n",
       "      <td>2007-05-26</td>\n",
       "      <td>10.0</td>\n",
       "      <td>NM</td>\n",
       "      <td>4 years</td>\n",
       "      <td>0</td>\n",
       "    </tr>\n",
       "    <tr>\n",
       "      <th>1</th>\n",
       "      <td>1000.0</td>\n",
       "      <td>2007-05-26</td>\n",
       "      <td>10.0</td>\n",
       "      <td>MA</td>\n",
       "      <td>&lt; 1 year</td>\n",
       "      <td>0</td>\n",
       "    </tr>\n",
       "  </tbody>\n",
       "</table>\n",
       "</div>"
      ],
      "text/plain": [
       "   Amount Requested Application Date  Debt-To-Income Ratio State  \\\n",
       "0            1000.0       2007-05-26                  10.0    NM   \n",
       "1            1000.0       2007-05-26                  10.0    MA   \n",
       "\n",
       "  Employment Length  Policy Code  \n",
       "0           4 years            0  \n",
       "1          < 1 year            0  "
      ]
     },
     "execution_count": 13,
     "metadata": {},
     "output_type": "execute_result"
    }
   ],
   "source": [
    "dec_loans['Debt-To-Income Ratio'] = list(map(lambda dti: float(dti[:-1]),\n",
    "                                             dec_loans['Debt-To-Income Ratio']))\n",
    "dec_loans.head(2) # check"
   ]
  },
  {
   "cell_type": "markdown",
   "metadata": {},
   "source": [
    "Dropping all rows with N/A so that we have use all features for each of the points. We will also make sure that we do not lose too much data (e.g., if it's a 10% or larger loss, we might better make certain assumptions about missing data). "
   ]
  },
  {
   "cell_type": "code",
   "execution_count": 14,
   "metadata": {},
   "outputs": [
    {
     "name": "stdout",
     "output_type": "stream",
     "text": [
      "Number of rows before NA drop: 42542\n",
      "Number of rows after NA drop: 41423\n"
     ]
    }
   ],
   "source": [
    "print(\"Number of rows before NA drop:\", acc_loans.shape[0])\n",
    "acc_loans.dropna(how='any', axis=0, inplace=True) # remove any NAs\n",
    "print(\"Number of rows after NA drop:\", acc_loans.shape[0])"
   ]
  },
  {
   "cell_type": "code",
   "execution_count": 15,
   "metadata": {},
   "outputs": [
    {
     "data": {
      "text/html": [
       "<div>\n",
       "<style scoped>\n",
       "    .dataframe tbody tr th:only-of-type {\n",
       "        vertical-align: middle;\n",
       "    }\n",
       "\n",
       "    .dataframe tbody tr th {\n",
       "        vertical-align: top;\n",
       "    }\n",
       "\n",
       "    .dataframe thead th {\n",
       "        text-align: right;\n",
       "    }\n",
       "</style>\n",
       "<table border=\"1\" class=\"dataframe\">\n",
       "  <thead>\n",
       "    <tr style=\"text-align: right;\">\n",
       "      <th></th>\n",
       "      <th>Amount Requested</th>\n",
       "      <th>Application Date</th>\n",
       "      <th>Debt-To-Income Ratio</th>\n",
       "      <th>State</th>\n",
       "      <th>Employment Length</th>\n",
       "      <th>Policy Code</th>\n",
       "    </tr>\n",
       "  </thead>\n",
       "  <tbody>\n",
       "    <tr>\n",
       "      <th>0</th>\n",
       "      <td>5000.0</td>\n",
       "      <td>2011-12-15</td>\n",
       "      <td>27.65</td>\n",
       "      <td>AZ</td>\n",
       "      <td>10+ years</td>\n",
       "      <td>1.0</td>\n",
       "    </tr>\n",
       "    <tr>\n",
       "      <th>1</th>\n",
       "      <td>2500.0</td>\n",
       "      <td>2011-12-15</td>\n",
       "      <td>1.00</td>\n",
       "      <td>GA</td>\n",
       "      <td>&lt; 1 year</td>\n",
       "      <td>1.0</td>\n",
       "    </tr>\n",
       "  </tbody>\n",
       "</table>\n",
       "</div>"
      ],
      "text/plain": [
       "   Amount Requested Application Date  Debt-To-Income Ratio State  \\\n",
       "0            5000.0       2011-12-15                 27.65    AZ   \n",
       "1            2500.0       2011-12-15                  1.00    GA   \n",
       "\n",
       "  Employment Length  Policy Code  \n",
       "0         10+ years          1.0  \n",
       "1          < 1 year          1.0  "
      ]
     },
     "execution_count": 15,
     "metadata": {},
     "output_type": "execute_result"
    }
   ],
   "source": [
    "from datetime import datetime as dt\n",
    "dt.strptime(\"2017-Dec\", '%Y-%b')\n",
    "\n",
    "acc_loans['Application Date'] = list(map(lambda date: dt.strptime(\"15-\" + str(date), '%d-%b-%Y'),\n",
    "                                         acc_loans['Application Date']))\n",
    "acc_loans.head(2) # check"
   ]
  },
  {
   "cell_type": "code",
   "execution_count": 16,
   "metadata": {},
   "outputs": [
    {
     "name": "stdout",
     "output_type": "stream",
     "text": [
      "Number of rows before NA drop: 65499\n",
      "Number of rows after NA drop: 65475\n"
     ]
    },
    {
     "data": {
      "text/html": [
       "<div>\n",
       "<style scoped>\n",
       "    .dataframe tbody tr th:only-of-type {\n",
       "        vertical-align: middle;\n",
       "    }\n",
       "\n",
       "    .dataframe tbody tr th {\n",
       "        vertical-align: top;\n",
       "    }\n",
       "\n",
       "    .dataframe thead th {\n",
       "        text-align: right;\n",
       "    }\n",
       "</style>\n",
       "<table border=\"1\" class=\"dataframe\">\n",
       "  <thead>\n",
       "    <tr style=\"text-align: right;\">\n",
       "      <th></th>\n",
       "      <th>Amount Requested</th>\n",
       "      <th>Application Date</th>\n",
       "      <th>Debt-To-Income Ratio</th>\n",
       "      <th>State</th>\n",
       "      <th>Employment Length</th>\n",
       "      <th>Policy Code</th>\n",
       "    </tr>\n",
       "  </thead>\n",
       "  <tbody>\n",
       "    <tr>\n",
       "      <th>0</th>\n",
       "      <td>1000.0</td>\n",
       "      <td>2007-05-26</td>\n",
       "      <td>10.0</td>\n",
       "      <td>NM</td>\n",
       "      <td>4 years</td>\n",
       "      <td>0</td>\n",
       "    </tr>\n",
       "    <tr>\n",
       "      <th>1</th>\n",
       "      <td>1000.0</td>\n",
       "      <td>2007-05-26</td>\n",
       "      <td>10.0</td>\n",
       "      <td>MA</td>\n",
       "      <td>&lt; 1 year</td>\n",
       "      <td>0</td>\n",
       "    </tr>\n",
       "  </tbody>\n",
       "</table>\n",
       "</div>"
      ],
      "text/plain": [
       "   Amount Requested Application Date  Debt-To-Income Ratio State  \\\n",
       "0            1000.0       2007-05-26                  10.0    NM   \n",
       "1            1000.0       2007-05-26                  10.0    MA   \n",
       "\n",
       "  Employment Length  Policy Code  \n",
       "0           4 years            0  \n",
       "1          < 1 year            0  "
      ]
     },
     "execution_count": 16,
     "metadata": {},
     "output_type": "execute_result"
    }
   ],
   "source": [
    "print(\"Number of rows before NA drop:\", dec_loans.shape[0])\n",
    "dec_loans.dropna(how='any', axis=0, inplace=True) # remove any NAs\n",
    "print(\"Number of rows after NA drop:\", dec_loans.shape[0])\n",
    "\n",
    "dec_loans['Application Date'] = list(map(lambda date: dt.strptime(str(date), '%Y-%m-%d'),\n",
    "                                         dec_loans['Application Date']))\n",
    "dec_loans.head(2) # check"
   ]
  },
  {
   "cell_type": "markdown",
   "metadata": {},
   "source": [
    "Number of rows are retained well! The loss of data in the first case is less than 3% and in the second case is less than 0.1%. This is okay because we are sure that the data we have left has full set of features, meaning that we would not have to make any assumptions (e.g., if date doesn't exist, put it to mean value) that could potentially bias our data."
   ]
  },
  {
   "cell_type": "markdown",
   "metadata": {},
   "source": [
    "## Part 2: Table merging and pre-feeding processing\n",
    "**Step 1**: Stacking the tables together row-wise and shuffle"
   ]
  },
  {
   "cell_type": "code",
   "execution_count": 52,
   "metadata": {},
   "outputs": [
    {
     "data": {
      "text/html": [
       "<div>\n",
       "<style scoped>\n",
       "    .dataframe tbody tr th:only-of-type {\n",
       "        vertical-align: middle;\n",
       "    }\n",
       "\n",
       "    .dataframe tbody tr th {\n",
       "        vertical-align: top;\n",
       "    }\n",
       "\n",
       "    .dataframe thead th {\n",
       "        text-align: right;\n",
       "    }\n",
       "</style>\n",
       "<table border=\"1\" class=\"dataframe\">\n",
       "  <thead>\n",
       "    <tr style=\"text-align: right;\">\n",
       "      <th></th>\n",
       "      <th>Amount Requested</th>\n",
       "      <th>Application Date</th>\n",
       "      <th>Debt-To-Income Ratio</th>\n",
       "      <th>State</th>\n",
       "      <th>Employment Length</th>\n",
       "      <th>Policy Code</th>\n",
       "    </tr>\n",
       "  </thead>\n",
       "  <tbody>\n",
       "    <tr>\n",
       "      <th>0</th>\n",
       "      <td>7500.0</td>\n",
       "      <td>2008-09-18</td>\n",
       "      <td>54.22</td>\n",
       "      <td>NY</td>\n",
       "      <td>3 years</td>\n",
       "      <td>0.0</td>\n",
       "    </tr>\n",
       "    <tr>\n",
       "      <th>1</th>\n",
       "      <td>6500.0</td>\n",
       "      <td>2007-11-27</td>\n",
       "      <td>10.24</td>\n",
       "      <td>MD</td>\n",
       "      <td>2 years</td>\n",
       "      <td>0.0</td>\n",
       "    </tr>\n",
       "    <tr>\n",
       "      <th>2</th>\n",
       "      <td>7000.0</td>\n",
       "      <td>2009-05-27</td>\n",
       "      <td>10.48</td>\n",
       "      <td>PA</td>\n",
       "      <td>8 years</td>\n",
       "      <td>0.0</td>\n",
       "    </tr>\n",
       "    <tr>\n",
       "      <th>3</th>\n",
       "      <td>1500.0</td>\n",
       "      <td>2007-11-26</td>\n",
       "      <td>0.63</td>\n",
       "      <td>FL</td>\n",
       "      <td>2 years</td>\n",
       "      <td>0.0</td>\n",
       "    </tr>\n",
       "    <tr>\n",
       "      <th>4</th>\n",
       "      <td>3000.0</td>\n",
       "      <td>2009-04-13</td>\n",
       "      <td>33.62</td>\n",
       "      <td>NV</td>\n",
       "      <td>4 years</td>\n",
       "      <td>0.0</td>\n",
       "    </tr>\n",
       "  </tbody>\n",
       "</table>\n",
       "</div>"
      ],
      "text/plain": [
       "   Amount Requested Application Date  Debt-To-Income Ratio State  \\\n",
       "0            7500.0       2008-09-18                 54.22    NY   \n",
       "1            6500.0       2007-11-27                 10.24    MD   \n",
       "2            7000.0       2009-05-27                 10.48    PA   \n",
       "3            1500.0       2007-11-26                  0.63    FL   \n",
       "4            3000.0       2009-04-13                 33.62    NV   \n",
       "\n",
       "  Employment Length  Policy Code  \n",
       "0           3 years          0.0  \n",
       "1           2 years          0.0  \n",
       "2           8 years          0.0  \n",
       "3           2 years          0.0  \n",
       "4           4 years          0.0  "
      ]
     },
     "execution_count": 52,
     "metadata": {},
     "output_type": "execute_result"
    }
   ],
   "source": [
    "dataset = pd.concat([acc_loans, dec_loans]).sample(frac=1).reset_index(drop=True)\n",
    "dataset.head()"
   ]
  },
  {
   "cell_type": "markdown",
   "metadata": {},
   "source": [
    "**Step 2**: One-hot encoding for categorical variables (State, Employment Length) and binding them column-wise to the dataset"
   ]
  },
  {
   "cell_type": "code",
   "execution_count": 18,
   "metadata": {},
   "outputs": [
    {
     "data": {
      "text/html": [
       "<div>\n",
       "<style scoped>\n",
       "    .dataframe tbody tr th:only-of-type {\n",
       "        vertical-align: middle;\n",
       "    }\n",
       "\n",
       "    .dataframe tbody tr th {\n",
       "        vertical-align: top;\n",
       "    }\n",
       "\n",
       "    .dataframe thead th {\n",
       "        text-align: right;\n",
       "    }\n",
       "</style>\n",
       "<table border=\"1\" class=\"dataframe\">\n",
       "  <thead>\n",
       "    <tr style=\"text-align: right;\">\n",
       "      <th></th>\n",
       "      <th>AK</th>\n",
       "      <th>AL</th>\n",
       "      <th>AR</th>\n",
       "      <th>AZ</th>\n",
       "      <th>CA</th>\n",
       "      <th>CO</th>\n",
       "      <th>CT</th>\n",
       "      <th>DC</th>\n",
       "      <th>DE</th>\n",
       "      <th>FL</th>\n",
       "      <th>...</th>\n",
       "      <th>SD</th>\n",
       "      <th>TN</th>\n",
       "      <th>TX</th>\n",
       "      <th>UT</th>\n",
       "      <th>VA</th>\n",
       "      <th>VT</th>\n",
       "      <th>WA</th>\n",
       "      <th>WI</th>\n",
       "      <th>WV</th>\n",
       "      <th>WY</th>\n",
       "    </tr>\n",
       "  </thead>\n",
       "  <tbody>\n",
       "    <tr>\n",
       "      <th>0</th>\n",
       "      <td>0</td>\n",
       "      <td>0</td>\n",
       "      <td>0</td>\n",
       "      <td>0</td>\n",
       "      <td>0</td>\n",
       "      <td>0</td>\n",
       "      <td>0</td>\n",
       "      <td>0</td>\n",
       "      <td>0</td>\n",
       "      <td>0</td>\n",
       "      <td>...</td>\n",
       "      <td>0</td>\n",
       "      <td>0</td>\n",
       "      <td>0</td>\n",
       "      <td>0</td>\n",
       "      <td>0</td>\n",
       "      <td>0</td>\n",
       "      <td>0</td>\n",
       "      <td>1</td>\n",
       "      <td>0</td>\n",
       "      <td>0</td>\n",
       "    </tr>\n",
       "    <tr>\n",
       "      <th>1</th>\n",
       "      <td>0</td>\n",
       "      <td>0</td>\n",
       "      <td>0</td>\n",
       "      <td>0</td>\n",
       "      <td>0</td>\n",
       "      <td>0</td>\n",
       "      <td>0</td>\n",
       "      <td>0</td>\n",
       "      <td>0</td>\n",
       "      <td>0</td>\n",
       "      <td>...</td>\n",
       "      <td>0</td>\n",
       "      <td>0</td>\n",
       "      <td>1</td>\n",
       "      <td>0</td>\n",
       "      <td>0</td>\n",
       "      <td>0</td>\n",
       "      <td>0</td>\n",
       "      <td>0</td>\n",
       "      <td>0</td>\n",
       "      <td>0</td>\n",
       "    </tr>\n",
       "    <tr>\n",
       "      <th>2</th>\n",
       "      <td>0</td>\n",
       "      <td>0</td>\n",
       "      <td>0</td>\n",
       "      <td>0</td>\n",
       "      <td>0</td>\n",
       "      <td>0</td>\n",
       "      <td>1</td>\n",
       "      <td>0</td>\n",
       "      <td>0</td>\n",
       "      <td>0</td>\n",
       "      <td>...</td>\n",
       "      <td>0</td>\n",
       "      <td>0</td>\n",
       "      <td>0</td>\n",
       "      <td>0</td>\n",
       "      <td>0</td>\n",
       "      <td>0</td>\n",
       "      <td>0</td>\n",
       "      <td>0</td>\n",
       "      <td>0</td>\n",
       "      <td>0</td>\n",
       "    </tr>\n",
       "    <tr>\n",
       "      <th>3</th>\n",
       "      <td>0</td>\n",
       "      <td>0</td>\n",
       "      <td>0</td>\n",
       "      <td>0</td>\n",
       "      <td>0</td>\n",
       "      <td>0</td>\n",
       "      <td>0</td>\n",
       "      <td>0</td>\n",
       "      <td>0</td>\n",
       "      <td>0</td>\n",
       "      <td>...</td>\n",
       "      <td>0</td>\n",
       "      <td>0</td>\n",
       "      <td>1</td>\n",
       "      <td>0</td>\n",
       "      <td>0</td>\n",
       "      <td>0</td>\n",
       "      <td>0</td>\n",
       "      <td>0</td>\n",
       "      <td>0</td>\n",
       "      <td>0</td>\n",
       "    </tr>\n",
       "    <tr>\n",
       "      <th>4</th>\n",
       "      <td>0</td>\n",
       "      <td>0</td>\n",
       "      <td>0</td>\n",
       "      <td>0</td>\n",
       "      <td>0</td>\n",
       "      <td>0</td>\n",
       "      <td>0</td>\n",
       "      <td>0</td>\n",
       "      <td>0</td>\n",
       "      <td>0</td>\n",
       "      <td>...</td>\n",
       "      <td>0</td>\n",
       "      <td>0</td>\n",
       "      <td>0</td>\n",
       "      <td>0</td>\n",
       "      <td>0</td>\n",
       "      <td>0</td>\n",
       "      <td>0</td>\n",
       "      <td>0</td>\n",
       "      <td>0</td>\n",
       "      <td>0</td>\n",
       "    </tr>\n",
       "  </tbody>\n",
       "</table>\n",
       "<p>5 rows × 51 columns</p>\n",
       "</div>"
      ],
      "text/plain": [
       "   AK  AL  AR  AZ  CA  CO  CT  DC  DE  FL ...  SD  TN  TX  UT  VA  VT  WA  WI  \\\n",
       "0   0   0   0   0   0   0   0   0   0   0 ...   0   0   0   0   0   0   0   1   \n",
       "1   0   0   0   0   0   0   0   0   0   0 ...   0   0   1   0   0   0   0   0   \n",
       "2   0   0   0   0   0   0   1   0   0   0 ...   0   0   0   0   0   0   0   0   \n",
       "3   0   0   0   0   0   0   0   0   0   0 ...   0   0   1   0   0   0   0   0   \n",
       "4   0   0   0   0   0   0   0   0   0   0 ...   0   0   0   0   0   0   0   0   \n",
       "\n",
       "   WV  WY  \n",
       "0   0   0  \n",
       "1   0   0  \n",
       "2   0   0  \n",
       "3   0   0  \n",
       "4   0   0  \n",
       "\n",
       "[5 rows x 51 columns]"
      ]
     },
     "execution_count": 18,
     "metadata": {},
     "output_type": "execute_result"
    }
   ],
   "source": [
    "app_date_enc = pd.get_dummies(dataset['State'])\n",
    "app_date_enc.head()"
   ]
  },
  {
   "cell_type": "code",
   "execution_count": 19,
   "metadata": {},
   "outputs": [
    {
     "data": {
      "text/html": [
       "<div>\n",
       "<style scoped>\n",
       "    .dataframe tbody tr th:only-of-type {\n",
       "        vertical-align: middle;\n",
       "    }\n",
       "\n",
       "    .dataframe tbody tr th {\n",
       "        vertical-align: top;\n",
       "    }\n",
       "\n",
       "    .dataframe thead th {\n",
       "        text-align: right;\n",
       "    }\n",
       "</style>\n",
       "<table border=\"1\" class=\"dataframe\">\n",
       "  <thead>\n",
       "    <tr style=\"text-align: right;\">\n",
       "      <th></th>\n",
       "      <th>1 year</th>\n",
       "      <th>10+ years</th>\n",
       "      <th>2 years</th>\n",
       "      <th>3 years</th>\n",
       "      <th>4 years</th>\n",
       "      <th>5 years</th>\n",
       "      <th>6 years</th>\n",
       "      <th>7 years</th>\n",
       "      <th>8 years</th>\n",
       "      <th>9 years</th>\n",
       "      <th>&lt; 1 year</th>\n",
       "    </tr>\n",
       "  </thead>\n",
       "  <tbody>\n",
       "    <tr>\n",
       "      <th>0</th>\n",
       "      <td>1</td>\n",
       "      <td>0</td>\n",
       "      <td>0</td>\n",
       "      <td>0</td>\n",
       "      <td>0</td>\n",
       "      <td>0</td>\n",
       "      <td>0</td>\n",
       "      <td>0</td>\n",
       "      <td>0</td>\n",
       "      <td>0</td>\n",
       "      <td>0</td>\n",
       "    </tr>\n",
       "    <tr>\n",
       "      <th>1</th>\n",
       "      <td>0</td>\n",
       "      <td>0</td>\n",
       "      <td>0</td>\n",
       "      <td>0</td>\n",
       "      <td>0</td>\n",
       "      <td>0</td>\n",
       "      <td>0</td>\n",
       "      <td>0</td>\n",
       "      <td>0</td>\n",
       "      <td>0</td>\n",
       "      <td>1</td>\n",
       "    </tr>\n",
       "    <tr>\n",
       "      <th>2</th>\n",
       "      <td>0</td>\n",
       "      <td>0</td>\n",
       "      <td>0</td>\n",
       "      <td>0</td>\n",
       "      <td>0</td>\n",
       "      <td>0</td>\n",
       "      <td>1</td>\n",
       "      <td>0</td>\n",
       "      <td>0</td>\n",
       "      <td>0</td>\n",
       "      <td>0</td>\n",
       "    </tr>\n",
       "    <tr>\n",
       "      <th>3</th>\n",
       "      <td>0</td>\n",
       "      <td>0</td>\n",
       "      <td>0</td>\n",
       "      <td>0</td>\n",
       "      <td>0</td>\n",
       "      <td>0</td>\n",
       "      <td>0</td>\n",
       "      <td>0</td>\n",
       "      <td>0</td>\n",
       "      <td>0</td>\n",
       "      <td>1</td>\n",
       "    </tr>\n",
       "    <tr>\n",
       "      <th>4</th>\n",
       "      <td>0</td>\n",
       "      <td>0</td>\n",
       "      <td>1</td>\n",
       "      <td>0</td>\n",
       "      <td>0</td>\n",
       "      <td>0</td>\n",
       "      <td>0</td>\n",
       "      <td>0</td>\n",
       "      <td>0</td>\n",
       "      <td>0</td>\n",
       "      <td>0</td>\n",
       "    </tr>\n",
       "  </tbody>\n",
       "</table>\n",
       "</div>"
      ],
      "text/plain": [
       "   1 year  10+ years  2 years  3 years  4 years  5 years  6 years  7 years  \\\n",
       "0       1          0        0        0        0        0        0        0   \n",
       "1       0          0        0        0        0        0        0        0   \n",
       "2       0          0        0        0        0        0        1        0   \n",
       "3       0          0        0        0        0        0        0        0   \n",
       "4       0          0        1        0        0        0        0        0   \n",
       "\n",
       "   8 years  9 years  < 1 year  \n",
       "0        0        0         0  \n",
       "1        0        0         1  \n",
       "2        0        0         0  \n",
       "3        0        0         1  \n",
       "4        0        0         0  "
      ]
     },
     "execution_count": 19,
     "metadata": {},
     "output_type": "execute_result"
    }
   ],
   "source": [
    "emp_len_enc = pd.get_dummies(dataset['Employment Length'])\n",
    "emp_len_enc.head()"
   ]
  },
  {
   "cell_type": "code",
   "execution_count": 20,
   "metadata": {},
   "outputs": [
    {
     "data": {
      "text/html": [
       "<div>\n",
       "<style scoped>\n",
       "    .dataframe tbody tr th:only-of-type {\n",
       "        vertical-align: middle;\n",
       "    }\n",
       "\n",
       "    .dataframe tbody tr th {\n",
       "        vertical-align: top;\n",
       "    }\n",
       "\n",
       "    .dataframe thead th {\n",
       "        text-align: right;\n",
       "    }\n",
       "</style>\n",
       "<table border=\"1\" class=\"dataframe\">\n",
       "  <thead>\n",
       "    <tr style=\"text-align: right;\">\n",
       "      <th></th>\n",
       "      <th>Amount Requested</th>\n",
       "      <th>Application Date</th>\n",
       "      <th>Debt-To-Income Ratio</th>\n",
       "      <th>Policy Code</th>\n",
       "      <th>AK</th>\n",
       "      <th>AL</th>\n",
       "      <th>AR</th>\n",
       "      <th>AZ</th>\n",
       "      <th>CA</th>\n",
       "      <th>CO</th>\n",
       "      <th>...</th>\n",
       "      <th>10+ years</th>\n",
       "      <th>2 years</th>\n",
       "      <th>3 years</th>\n",
       "      <th>4 years</th>\n",
       "      <th>5 years</th>\n",
       "      <th>6 years</th>\n",
       "      <th>7 years</th>\n",
       "      <th>8 years</th>\n",
       "      <th>9 years</th>\n",
       "      <th>&lt; 1 year</th>\n",
       "    </tr>\n",
       "  </thead>\n",
       "  <tbody>\n",
       "    <tr>\n",
       "      <th>0</th>\n",
       "      <td>5000.0</td>\n",
       "      <td>2007-12-17</td>\n",
       "      <td>0.00</td>\n",
       "      <td>0.0</td>\n",
       "      <td>0</td>\n",
       "      <td>0</td>\n",
       "      <td>0</td>\n",
       "      <td>0</td>\n",
       "      <td>0</td>\n",
       "      <td>0</td>\n",
       "      <td>...</td>\n",
       "      <td>0</td>\n",
       "      <td>0</td>\n",
       "      <td>0</td>\n",
       "      <td>0</td>\n",
       "      <td>0</td>\n",
       "      <td>0</td>\n",
       "      <td>0</td>\n",
       "      <td>0</td>\n",
       "      <td>0</td>\n",
       "      <td>0</td>\n",
       "    </tr>\n",
       "    <tr>\n",
       "      <th>1</th>\n",
       "      <td>4500.0</td>\n",
       "      <td>2009-02-24</td>\n",
       "      <td>25.27</td>\n",
       "      <td>0.0</td>\n",
       "      <td>0</td>\n",
       "      <td>0</td>\n",
       "      <td>0</td>\n",
       "      <td>0</td>\n",
       "      <td>0</td>\n",
       "      <td>0</td>\n",
       "      <td>...</td>\n",
       "      <td>0</td>\n",
       "      <td>0</td>\n",
       "      <td>0</td>\n",
       "      <td>0</td>\n",
       "      <td>0</td>\n",
       "      <td>0</td>\n",
       "      <td>0</td>\n",
       "      <td>0</td>\n",
       "      <td>0</td>\n",
       "      <td>1</td>\n",
       "    </tr>\n",
       "  </tbody>\n",
       "</table>\n",
       "<p>2 rows × 66 columns</p>\n",
       "</div>"
      ],
      "text/plain": [
       "   Amount Requested Application Date  Debt-To-Income Ratio  Policy Code  AK  \\\n",
       "0            5000.0       2007-12-17                  0.00          0.0   0   \n",
       "1            4500.0       2009-02-24                 25.27          0.0   0   \n",
       "\n",
       "   AL  AR  AZ  CA  CO    ...     10+ years  2 years  3 years  4 years  \\\n",
       "0   0   0   0   0   0    ...             0        0        0        0   \n",
       "1   0   0   0   0   0    ...             0        0        0        0   \n",
       "\n",
       "   5 years  6 years  7 years  8 years  9 years  < 1 year  \n",
       "0        0        0        0        0        0         0  \n",
       "1        0        0        0        0        0         1  \n",
       "\n",
       "[2 rows x 66 columns]"
      ]
     },
     "execution_count": 20,
     "metadata": {},
     "output_type": "execute_result"
    }
   ],
   "source": [
    "dataset.drop(['State', 'Employment Length'], axis=1, inplace=True)\n",
    "dataset = pd.concat([dataset, app_date_enc, emp_len_enc], axis=1, sort=False)\n",
    "dataset.head(2)"
   ]
  },
  {
   "cell_type": "markdown",
   "metadata": {},
   "source": [
    "**Step 3**: Splitting the dataset into data and targets"
   ]
  },
  {
   "cell_type": "code",
   "execution_count": 21,
   "metadata": {},
   "outputs": [
    {
     "data": {
      "text/plain": [
       "0    0.0\n",
       "1    0.0\n",
       "2    1.0\n",
       "3    0.0\n",
       "4    1.0\n",
       "Name: Policy Code, dtype: float64"
      ]
     },
     "execution_count": 21,
     "metadata": {},
     "output_type": "execute_result"
    }
   ],
   "source": [
    "data = dataset.drop(['Policy Code'], axis=1)\n",
    "targets = dataset['Policy Code']\n",
    "targets.head()"
   ]
  },
  {
   "cell_type": "markdown",
   "metadata": {},
   "source": [
    "**Step 4**: We would like to normalize the features before we fit a kNN model to this dataset. This is because some features like Amount Requested have a great variance, whereas features like DTI have a smaller.\n",
    "\n",
    "To normalize timestamp, we can convert it to seconds."
   ]
  },
  {
   "cell_type": "code",
   "execution_count": 22,
   "metadata": {},
   "outputs": [],
   "source": [
    "data['Application Date'] = list(map(lambda date: date.timestamp(), data['Application Date']))"
   ]
  },
  {
   "cell_type": "markdown",
   "metadata": {},
   "source": [
    "We would like to be careful when we normalize the data and save the column means and standard deviations to later normalize the input to predict."
   ]
  },
  {
   "cell_type": "code",
   "execution_count": 23,
   "metadata": {},
   "outputs": [
    {
     "data": {
      "text/html": [
       "<div>\n",
       "<style scoped>\n",
       "    .dataframe tbody tr th:only-of-type {\n",
       "        vertical-align: middle;\n",
       "    }\n",
       "\n",
       "    .dataframe tbody tr th {\n",
       "        vertical-align: top;\n",
       "    }\n",
       "\n",
       "    .dataframe thead th {\n",
       "        text-align: right;\n",
       "    }\n",
       "</style>\n",
       "<table border=\"1\" class=\"dataframe\">\n",
       "  <thead>\n",
       "    <tr style=\"text-align: right;\">\n",
       "      <th></th>\n",
       "      <th>Amount Requested</th>\n",
       "      <th>Application Date</th>\n",
       "      <th>Debt-To-Income Ratio</th>\n",
       "      <th>AK</th>\n",
       "      <th>AL</th>\n",
       "      <th>AR</th>\n",
       "      <th>AZ</th>\n",
       "      <th>CA</th>\n",
       "      <th>CO</th>\n",
       "      <th>CT</th>\n",
       "      <th>...</th>\n",
       "      <th>10+ years</th>\n",
       "      <th>2 years</th>\n",
       "      <th>3 years</th>\n",
       "      <th>4 years</th>\n",
       "      <th>5 years</th>\n",
       "      <th>6 years</th>\n",
       "      <th>7 years</th>\n",
       "      <th>8 years</th>\n",
       "      <th>9 years</th>\n",
       "      <th>&lt; 1 year</th>\n",
       "    </tr>\n",
       "  </thead>\n",
       "  <tbody>\n",
       "    <tr>\n",
       "      <th>0</th>\n",
       "      <td>-0.687111</td>\n",
       "      <td>-1.384970</td>\n",
       "      <td>-0.063949</td>\n",
       "      <td>-0.047732</td>\n",
       "      <td>-0.120461</td>\n",
       "      <td>-0.092351</td>\n",
       "      <td>-0.152192</td>\n",
       "      <td>-0.400178</td>\n",
       "      <td>-0.144317</td>\n",
       "      <td>-0.12315</td>\n",
       "      <td>...</td>\n",
       "      <td>-0.451132</td>\n",
       "      <td>-0.370796</td>\n",
       "      <td>-0.319455</td>\n",
       "      <td>-0.284682</td>\n",
       "      <td>-0.255318</td>\n",
       "      <td>-0.214712</td>\n",
       "      <td>-0.18818</td>\n",
       "      <td>-0.182537</td>\n",
       "      <td>-0.16213</td>\n",
       "      <td>-0.532044</td>\n",
       "    </tr>\n",
       "    <tr>\n",
       "      <th>1</th>\n",
       "      <td>-0.755870</td>\n",
       "      <td>-0.388287</td>\n",
       "      <td>-0.063105</td>\n",
       "      <td>-0.047732</td>\n",
       "      <td>-0.120461</td>\n",
       "      <td>-0.092351</td>\n",
       "      <td>-0.152192</td>\n",
       "      <td>-0.400178</td>\n",
       "      <td>-0.144317</td>\n",
       "      <td>-0.12315</td>\n",
       "      <td>...</td>\n",
       "      <td>-0.451132</td>\n",
       "      <td>-0.370796</td>\n",
       "      <td>-0.319455</td>\n",
       "      <td>-0.284682</td>\n",
       "      <td>-0.255318</td>\n",
       "      <td>-0.214712</td>\n",
       "      <td>-0.18818</td>\n",
       "      <td>-0.182537</td>\n",
       "      <td>-0.16213</td>\n",
       "      <td>1.879526</td>\n",
       "    </tr>\n",
       "  </tbody>\n",
       "</table>\n",
       "<p>2 rows × 65 columns</p>\n",
       "</div>"
      ],
      "text/plain": [
       "   Amount Requested  Application Date  Debt-To-Income Ratio        AK  \\\n",
       "0         -0.687111         -1.384970             -0.063949 -0.047732   \n",
       "1         -0.755870         -0.388287             -0.063105 -0.047732   \n",
       "\n",
       "         AL        AR        AZ        CA        CO       CT    ...     \\\n",
       "0 -0.120461 -0.092351 -0.152192 -0.400178 -0.144317 -0.12315    ...      \n",
       "1 -0.120461 -0.092351 -0.152192 -0.400178 -0.144317 -0.12315    ...      \n",
       "\n",
       "   10+ years   2 years   3 years   4 years   5 years   6 years  7 years  \\\n",
       "0  -0.451132 -0.370796 -0.319455 -0.284682 -0.255318 -0.214712 -0.18818   \n",
       "1  -0.451132 -0.370796 -0.319455 -0.284682 -0.255318 -0.214712 -0.18818   \n",
       "\n",
       "    8 years  9 years  < 1 year  \n",
       "0 -0.182537 -0.16213 -0.532044  \n",
       "1 -0.182537 -0.16213  1.879526  \n",
       "\n",
       "[2 rows x 65 columns]"
      ]
     },
     "execution_count": 23,
     "metadata": {},
     "output_type": "execute_result"
    }
   ],
   "source": [
    "from sklearn.preprocessing import normalize\n",
    "\n",
    "means = data.mean()\n",
    "stds = data.std()\n",
    "data_norm = (data - means) / stds\n",
    "\n",
    "data_norm.head(2)\n",
    "\n",
    "# def normalize_feat(arr):\n",
    "#     mean = np.mean(arr)\n",
    "#     variance = "
   ]
  },
  {
   "cell_type": "markdown",
   "metadata": {},
   "source": [
    "The reason we normalize data before feeding into K Nearest Neighbors is because in this algorithm, we calculate the absolute distance (L1 or L2). As an example, features of amount requested and debt-to-income ratio have very different magnitude (requested loan can be tens of thousands whereas DTI is generally less than 100). Then, we might have a situation where a datapoint's difference in loan amount from the nearest neighbor is 1000 (data point is 9000 and NN is 10000). Whereas the DTI is \"only\" 20 (datapoint is 30 and NN is 50). Then, if we calculate L1 or L2 distance, the loan amount will play the most major role even though the different is only 20% whereas the difference in DTI is 40%. In reality of this case, DTI should play a more important role in deciding class. Thus, we have to normalize these features to make sure that the magnitudes are equivalent within the two distributions."
   ]
  },
  {
   "cell_type": "markdown",
   "metadata": {},
   "source": [
    "## Part 3: Fitting a kNN model"
   ]
  },
  {
   "cell_type": "markdown",
   "metadata": {},
   "source": [
    "**Step 1**: Our dataset of rejected and accepted loans is slightly skewed (about 60% rejections vs 40% acceptances). Therefore, there are three things we should be paying attention to:\n",
    "1. The baseline accuracy is 60% (because we can simply predict that everything is a rejection and get the accuracy of 60%)\n",
    "2. Besides accuracy, we would like to measure the area under ROC curve (AUROC), indicating the separability of classes\n",
    "3. For the similar AUROC, we would like to prioritize models with higher specificity or true negative rate whose formula is $\\frac{TN}{TN + FP}$. The reason for this is that we want to be on safer side and be less optimistic about predicting getting a loan to avoid type I error as it can be costly for the client in later credit loanings.\n"
   ]
  },
  {
   "cell_type": "code",
   "execution_count": 24,
   "metadata": {},
   "outputs": [],
   "source": [
    "from sklearn.metrics import accuracy_score, roc_auc_score, confusion_matrix\n",
    "\n",
    "def model_performance(y_actual, y_test):\n",
    "    acc = accuracy_score(y_actual, y_test)\n",
    "    auroc = roc_auc_score(y_actual, y_test)\n",
    "    \n",
    "    tn, fp, fn, tp = confusion_matrix(y_actual, y_test).ravel()\n",
    "    specif = tn / (tn + fp)\n",
    "    \n",
    "    return acc, auroc, specif"
   ]
  },
  {
   "cell_type": "markdown",
   "metadata": {},
   "source": [
    "**Step 2**: Let's perform K-fold cross-validation on different number of nearest neighbors in kNN ($n\\_neighbors$) to determine $n\\_neighbors$ that would give us the lowest predicted test error. In K-fold cross-validation, we divide data into K sections and then train the model on K-1 sections and evaluate on the left out section. We do this K times for each left out section. We then average all the out-of-sample accuracies to get an estimate of test set accuracy.\n",
    "\n",
    "K-fold validations will take very very long since each time the kNN wants to predict a new data point, it has to calculate distances between it and all points in the training set (100,000 of them). Therefore, we will get about 10% random subset of data (10,000 data points which is probably not enough to discover all patterns in features but at least we can count on their representativeness since we're drawing randomly) to get an idea of how our models perform and then access the best model's performance on full dataset."
   ]
  },
  {
   "cell_type": "code",
   "execution_count": 25,
   "metadata": {},
   "outputs": [
    {
     "data": {
      "text/html": [
       "<div>\n",
       "<style scoped>\n",
       "    .dataframe tbody tr th:only-of-type {\n",
       "        vertical-align: middle;\n",
       "    }\n",
       "\n",
       "    .dataframe tbody tr th {\n",
       "        vertical-align: top;\n",
       "    }\n",
       "\n",
       "    .dataframe thead th {\n",
       "        text-align: right;\n",
       "    }\n",
       "</style>\n",
       "<table border=\"1\" class=\"dataframe\">\n",
       "  <thead>\n",
       "    <tr style=\"text-align: right;\">\n",
       "      <th></th>\n",
       "      <th>Amount Requested</th>\n",
       "      <th>Application Date</th>\n",
       "      <th>Debt-To-Income Ratio</th>\n",
       "      <th>AK</th>\n",
       "      <th>AL</th>\n",
       "      <th>AR</th>\n",
       "      <th>AZ</th>\n",
       "      <th>CA</th>\n",
       "      <th>CO</th>\n",
       "      <th>CT</th>\n",
       "      <th>...</th>\n",
       "      <th>10+ years</th>\n",
       "      <th>2 years</th>\n",
       "      <th>3 years</th>\n",
       "      <th>4 years</th>\n",
       "      <th>5 years</th>\n",
       "      <th>6 years</th>\n",
       "      <th>7 years</th>\n",
       "      <th>8 years</th>\n",
       "      <th>9 years</th>\n",
       "      <th>&lt; 1 year</th>\n",
       "    </tr>\n",
       "  </thead>\n",
       "  <tbody>\n",
       "    <tr>\n",
       "      <th>0</th>\n",
       "      <td>2.063260</td>\n",
       "      <td>-0.154582</td>\n",
       "      <td>-0.062456</td>\n",
       "      <td>-0.047732</td>\n",
       "      <td>-0.120461</td>\n",
       "      <td>-0.092351</td>\n",
       "      <td>-0.152192</td>\n",
       "      <td>2.498863</td>\n",
       "      <td>-0.144317</td>\n",
       "      <td>-0.12315</td>\n",
       "      <td>...</td>\n",
       "      <td>-0.451132</td>\n",
       "      <td>-0.370796</td>\n",
       "      <td>-0.319455</td>\n",
       "      <td>-0.284682</td>\n",
       "      <td>-0.255318</td>\n",
       "      <td>-0.214712</td>\n",
       "      <td>-0.18818</td>\n",
       "      <td>-0.182537</td>\n",
       "      <td>-0.16213</td>\n",
       "      <td>-0.532044</td>\n",
       "    </tr>\n",
       "    <tr>\n",
       "      <th>1</th>\n",
       "      <td>0.000482</td>\n",
       "      <td>-0.124796</td>\n",
       "      <td>-0.062257</td>\n",
       "      <td>-0.047732</td>\n",
       "      <td>-0.120461</td>\n",
       "      <td>-0.092351</td>\n",
       "      <td>-0.152192</td>\n",
       "      <td>-0.400178</td>\n",
       "      <td>-0.144317</td>\n",
       "      <td>-0.12315</td>\n",
       "      <td>...</td>\n",
       "      <td>-0.451132</td>\n",
       "      <td>-0.370796</td>\n",
       "      <td>-0.319455</td>\n",
       "      <td>3.512662</td>\n",
       "      <td>-0.255318</td>\n",
       "      <td>-0.214712</td>\n",
       "      <td>-0.18818</td>\n",
       "      <td>-0.182537</td>\n",
       "      <td>-0.16213</td>\n",
       "      <td>-0.532044</td>\n",
       "    </tr>\n",
       "    <tr>\n",
       "      <th>2</th>\n",
       "      <td>1.375667</td>\n",
       "      <td>-0.216445</td>\n",
       "      <td>-0.063549</td>\n",
       "      <td>-0.047732</td>\n",
       "      <td>-0.120461</td>\n",
       "      <td>-0.092351</td>\n",
       "      <td>-0.152192</td>\n",
       "      <td>-0.400178</td>\n",
       "      <td>-0.144317</td>\n",
       "      <td>-0.12315</td>\n",
       "      <td>...</td>\n",
       "      <td>-0.451132</td>\n",
       "      <td>-0.370796</td>\n",
       "      <td>-0.319455</td>\n",
       "      <td>-0.284682</td>\n",
       "      <td>-0.255318</td>\n",
       "      <td>4.657354</td>\n",
       "      <td>-0.18818</td>\n",
       "      <td>-0.182537</td>\n",
       "      <td>-0.16213</td>\n",
       "      <td>-0.532044</td>\n",
       "    </tr>\n",
       "    <tr>\n",
       "      <th>3</th>\n",
       "      <td>2.063260</td>\n",
       "      <td>-0.104175</td>\n",
       "      <td>-0.063949</td>\n",
       "      <td>-0.047732</td>\n",
       "      <td>-0.120461</td>\n",
       "      <td>-0.092351</td>\n",
       "      <td>-0.152192</td>\n",
       "      <td>-0.400178</td>\n",
       "      <td>-0.144317</td>\n",
       "      <td>-0.12315</td>\n",
       "      <td>...</td>\n",
       "      <td>-0.451132</td>\n",
       "      <td>-0.370796</td>\n",
       "      <td>-0.319455</td>\n",
       "      <td>-0.284682</td>\n",
       "      <td>-0.255318</td>\n",
       "      <td>-0.214712</td>\n",
       "      <td>-0.18818</td>\n",
       "      <td>-0.182537</td>\n",
       "      <td>-0.16213</td>\n",
       "      <td>1.879526</td>\n",
       "    </tr>\n",
       "    <tr>\n",
       "      <th>4</th>\n",
       "      <td>-0.274555</td>\n",
       "      <td>1.607371</td>\n",
       "      <td>-0.063578</td>\n",
       "      <td>-0.047732</td>\n",
       "      <td>-0.120461</td>\n",
       "      <td>-0.092351</td>\n",
       "      <td>-0.152192</td>\n",
       "      <td>-0.400178</td>\n",
       "      <td>-0.144317</td>\n",
       "      <td>-0.12315</td>\n",
       "      <td>...</td>\n",
       "      <td>-0.451132</td>\n",
       "      <td>-0.370796</td>\n",
       "      <td>-0.319455</td>\n",
       "      <td>-0.284682</td>\n",
       "      <td>3.916646</td>\n",
       "      <td>-0.214712</td>\n",
       "      <td>-0.18818</td>\n",
       "      <td>-0.182537</td>\n",
       "      <td>-0.16213</td>\n",
       "      <td>-0.532044</td>\n",
       "    </tr>\n",
       "  </tbody>\n",
       "</table>\n",
       "<p>5 rows × 65 columns</p>\n",
       "</div>"
      ],
      "text/plain": [
       "   Amount Requested  Application Date  Debt-To-Income Ratio        AK  \\\n",
       "0          2.063260         -0.154582             -0.062456 -0.047732   \n",
       "1          0.000482         -0.124796             -0.062257 -0.047732   \n",
       "2          1.375667         -0.216445             -0.063549 -0.047732   \n",
       "3          2.063260         -0.104175             -0.063949 -0.047732   \n",
       "4         -0.274555          1.607371             -0.063578 -0.047732   \n",
       "\n",
       "         AL        AR        AZ        CA        CO       CT    ...     \\\n",
       "0 -0.120461 -0.092351 -0.152192  2.498863 -0.144317 -0.12315    ...      \n",
       "1 -0.120461 -0.092351 -0.152192 -0.400178 -0.144317 -0.12315    ...      \n",
       "2 -0.120461 -0.092351 -0.152192 -0.400178 -0.144317 -0.12315    ...      \n",
       "3 -0.120461 -0.092351 -0.152192 -0.400178 -0.144317 -0.12315    ...      \n",
       "4 -0.120461 -0.092351 -0.152192 -0.400178 -0.144317 -0.12315    ...      \n",
       "\n",
       "   10+ years   2 years   3 years   4 years   5 years   6 years  7 years  \\\n",
       "0  -0.451132 -0.370796 -0.319455 -0.284682 -0.255318 -0.214712 -0.18818   \n",
       "1  -0.451132 -0.370796 -0.319455  3.512662 -0.255318 -0.214712 -0.18818   \n",
       "2  -0.451132 -0.370796 -0.319455 -0.284682 -0.255318  4.657354 -0.18818   \n",
       "3  -0.451132 -0.370796 -0.319455 -0.284682 -0.255318 -0.214712 -0.18818   \n",
       "4  -0.451132 -0.370796 -0.319455 -0.284682  3.916646 -0.214712 -0.18818   \n",
       "\n",
       "    8 years  9 years  < 1 year  \n",
       "0 -0.182537 -0.16213 -0.532044  \n",
       "1 -0.182537 -0.16213 -0.532044  \n",
       "2 -0.182537 -0.16213 -0.532044  \n",
       "3 -0.182537 -0.16213  1.879526  \n",
       "4 -0.182537 -0.16213 -0.532044  \n",
       "\n",
       "[5 rows x 65 columns]"
      ]
     },
     "execution_count": 25,
     "metadata": {},
     "output_type": "execute_result"
    }
   ],
   "source": [
    "X_sub = data_norm.sample(frac=0.1, replace=False, random_state=1)\n",
    "y_sub = targets.iloc[X_sub.index]\n",
    "\n",
    "# Re-indexing data to avoid confusion\n",
    "X_sub.index = range(len(X_sub))\n",
    "y_sub.index = range(len(y_sub))\n",
    "X_sub.head()"
   ]
  },
  {
   "cell_type": "code",
   "execution_count": 4,
   "metadata": {},
   "outputs": [],
   "source": [
    "from sklearn.neighbors import KNeighborsClassifier\n",
    "from sklearn.model_selection import KFold\n",
    "\n",
    "def eval_models(data, targets, n_neighbors=[1], n_splits=3):\n",
    "    model_eval = [] # to store model perfomances\n",
    "    kf = KFold(n_splits = n_splits)\n",
    "    \n",
    "    for it, n in enumerate(n_neighbors):\n",
    "        model_eval.append([])\n",
    "        print(\"Iteration {} out of {}\".format(it + 1, len(n_neighbors)),\n",
    "              end=\" | Evaluating n_neighbors = {} | K-fold iteration \".format(n))\n",
    "\n",
    "        for k_it, (train_idx, test_idx) in enumerate(kf.split(data)):\n",
    "            print(k_it + 1, end=\" \")\n",
    "\n",
    "            X_train, y_train = data.iloc[train_idx], targets[train_idx] # getting train subset\n",
    "            X_test, y_test = data.iloc[test_idx], targets[test_idx] # getting test subset\n",
    "\n",
    "            clf = KNeighborsClassifier(n_neighbors=n)\n",
    "            clf.fit(X_train, y_train)\n",
    "\n",
    "            y_pred = clf.predict(X_test)\n",
    "            model_eval[it].append(model_performance(y_test, y_pred))\n",
    "\n",
    "        print()\n",
    "    \n",
    "    return model_eval"
   ]
  },
  {
   "cell_type": "markdown",
   "metadata": {},
   "source": [
    "We will pick an odd number of nearest neighbors so that a definite class can be assigned to any points."
   ]
  },
  {
   "cell_type": "code",
   "execution_count": 107,
   "metadata": {},
   "outputs": [
    {
     "name": "stdout",
     "output_type": "stream",
     "text": [
      "Iteration 1 out of 11 | Evaluating n_neighbors = 1 | K-fold iteration 1 2 3 4 5 \n",
      "Iteration 2 out of 11 | Evaluating n_neighbors = 3 | K-fold iteration 1 2 3 4 5 \n",
      "Iteration 3 out of 11 | Evaluating n_neighbors = 5 | K-fold iteration 1 2 3 4 5 \n",
      "Iteration 4 out of 11 | Evaluating n_neighbors = 7 | K-fold iteration 1 2 3 4 5 \n",
      "Iteration 5 out of 11 | Evaluating n_neighbors = 9 | K-fold iteration 1 2 3 4 5 \n",
      "Iteration 6 out of 11 | Evaluating n_neighbors = 11 | K-fold iteration 1 2 3 4 5 \n",
      "Iteration 7 out of 11 | Evaluating n_neighbors = 13 | K-fold iteration 1 2 3 4 5 \n",
      "Iteration 8 out of 11 | Evaluating n_neighbors = 15 | K-fold iteration 1 2 3 4 5 \n",
      "Iteration 9 out of 11 | Evaluating n_neighbors = 17 | K-fold iteration 1 2 3 4 5 \n",
      "Iteration 10 out of 11 | Evaluating n_neighbors = 19 | K-fold iteration 1 2 3 4 5 \n",
      "Iteration 11 out of 11 | Evaluating n_neighbors = 21 | K-fold iteration 1 2 3 4 5 \n"
     ]
    }
   ],
   "source": [
    "n_neighbors = [1, 3, 5, 7, 9, 11, 13, 15, 17, 19, 21]\n",
    "res = eval_models(X_sub, y_sub, n_neighbors=n_neighbors, n_splits=5)"
   ]
  },
  {
   "cell_type": "markdown",
   "metadata": {},
   "source": [
    "**Step 3**: To interpret the results, we need to find the mean of the tuples of 3 (accuracy, AUROC, and specificity) for each $n\\_neighbors$. We will then plot these parameters against the number of nearest neighbors."
   ]
  },
  {
   "cell_type": "code",
   "execution_count": 124,
   "metadata": {},
   "outputs": [
    {
     "name": "stdout",
     "output_type": "stream",
     "text": [
      "[[0.85771749 0.84565945 0.89763555]\n",
      " [0.86613658 0.8427409  0.94336878]\n",
      " [0.86314312 0.83567987 0.95402807]\n",
      " [0.85500468 0.82462207 0.95528122]\n",
      " [0.8453695  0.81230773 0.954345  ]\n",
      " [0.84134705 0.80648777 0.95616374]\n",
      " [0.83330215 0.79741383 0.95162324]\n",
      " [0.82881197 0.79095184 0.95341828]\n",
      " [0.82217025 0.78229039 0.95373225]\n",
      " [0.81403181 0.77323635 0.94869571]\n",
      " [0.81188026 0.77073185 0.94786275]]\n"
     ]
    }
   ],
   "source": [
    "import numpy as np\n",
    "\n",
    "mean_res = []\n",
    "\n",
    "for row in res:\n",
    "    acc_tup = [0, 0, 0]\n",
    "    for tup in row:\n",
    "        for i in range(len(tup)):\n",
    "            acc_tup[i] += tup[i]\n",
    "    \n",
    "    for i in range(len(acc_tup)):\n",
    "        acc_tup[i] /= len(row)\n",
    "    \n",
    "    mean_res.append(acc_tup)\n",
    "\n",
    "mean_res = np.array(mean_res) # converting to np for easier plotting\n",
    "print(mean_res) # checking"
   ]
  },
  {
   "cell_type": "markdown",
   "metadata": {},
   "source": [
    "Time to plot the data!"
   ]
  },
  {
   "cell_type": "code",
   "execution_count": 173,
   "metadata": {},
   "outputs": [
    {
     "data": {
      "image/png": "[encoded data removed]",
      "text/plain": [
       "<Figure size 800x400 with 1 Axes>"
      ]
     },
     "metadata": {
      "needs_background": "light"
     },
     "output_type": "display_data"
    }
   ],
   "source": [
    "from matplotlib import pyplot as plt\n",
    "\n",
    "accs, aurocs, specifs = mean_res[:, 0], mean_res[:, 1], mean_res[:, 2]\n",
    "\n",
    "plt.figure(figsize=(8, 4), dpi=100)\n",
    "plt.xticks(np.arange(1, 22, 2))\n",
    "plt.legend(handles=[acc_line, auroc_line, specif_line])\n",
    "\n",
    "acc_line,  = plt.plot(n_neighbors, accs, color='green', label='Accuracy')\n",
    "auroc_line,  = plt.plot(n_neighbors, aurocs, color='blue', label='AUROC')\n",
    "specif_line,  = plt.plot(n_neighbors, specifs, color='red', label='Specificity')\n",
    "plt.axvline(x=5, color='black', linestyle=':')\n",
    "\n",
    "plt.show()"
   ]
  },
  {
   "cell_type": "markdown",
   "metadata": {},
   "source": [
    "From the figure above, we can see that the drop in accuracy and AUROC is not significant from $n = 1$ to $n = 5$ (less than 1% for accuracy and less than 1.5% for AUROC), but the increase in specificity (which we care about) is quite drastic (more than 5%). Thus, trading off AUROC for better type I error handling is worth it since the gain from making fewer false positives in practicality is more valuable (again, we would rather say that a person cannot get a loan than if we say he/she can but they end up not getting it). \n",
    "\n",
    "After $n=5$ the out-of-sample accuracy stars to plummet indicating that we are overfitting the data (or, in other words, being biased by a more dense distribution of neighbors).\n",
    "\n",
    "Therefore, from our empirical analysis, we choose the classifier with 5 nearest neighbors."
   ]
  },
  {
   "cell_type": "markdown",
   "metadata": {},
   "source": [
    "## Part 4: Prediction and evaluation\n",
    "**Step 1**: Now let's run cross-validation for the full dataset and get an estimate of its test-set performance. This time we will run with more folds to an estimate get closer to the LOOCV estimate that is performed on almost all training data, thus, giving a more precise estimate of test set error)."
   ]
  },
  {
   "cell_type": "code",
   "execution_count": 185,
   "metadata": {},
   "outputs": [
    {
     "name": "stdout",
     "output_type": "stream",
     "text": [
      "Iteration 1 out of 1 | Evaluating n_neighbors = 5 | K-fold iteration 1 2 3 4 5 6 7 8 9 10 \n"
     ]
    }
   ],
   "source": [
    "fin_eval = eval_models(data_norm, targets, n_neighbors=[5], n_splits=10)"
   ]
  },
  {
   "cell_type": "markdown",
   "metadata": {},
   "source": [
    "*This takes very long (about 30 mins), so think twice before you run it ^_^"
   ]
  },
  {
   "cell_type": "code",
   "execution_count": 187,
   "metadata": {},
   "outputs": [
    {
     "name": "stdout",
     "output_type": "stream",
     "text": [
      "Estimated test set accuracy: 0.9300735209369133\n",
      "Estimated test set AUROC: 0.9127939790234256\n",
      "Estimated test set specificity: 0.9895677226150349\n"
     ]
    }
   ],
   "source": [
    "mean_eval = np.mean(fin_eval, axis=1)[0]\n",
    "print(\"Estimated test set accuracy:\", mean_eval[0])\n",
    "print(\"Estimated test set AUROC:\", mean_eval[1])\n",
    "print(\"Estimated test set specificity:\", mean_eval[2])"
   ]
  },
  {
   "cell_type": "markdown",
   "metadata": {},
   "source": [
    "Wow, specificity of 98.96%. This is good stuff! \n",
    "\n",
    "**Step 2**: Build a wrapper function that predicts whether a person will get a loan or not. If amount requested is not inputted, the function will try to optimize for the highest amount that can be requested that is still \"acceptable.\" For employment length, we will consider 5 years as the average (since \"10+\" years is not quantifiable). State will be required since each state has different policies so the answer could vary much and we cannot have an \"average\" state. If any other feature is not provided, we will take the mean of all available data for that feature."
   ]
  },
  {
   "cell_type": "code",
   "execution_count": 61,
   "metadata": {},
   "outputs": [],
   "source": [
    "import numpy as np\n",
    "\n",
    "def loan_qualify(clf,\n",
    "                 state,\n",
    "                 amt_requested=None,\n",
    "                 app_date=means['Application Date'],\n",
    "                 dti=means['Debt-To-Income Ratio'],\n",
    "                 emp_len=5):\n",
    "    \n",
    "    query = pd.DataFrame(np.zeros((1, len(list(data)))), columns=list(data))\n",
    "    query.at[0, 'Application Date'] = float((dt.strptime(app_date, '%Y-%m-%d').timestamp() -\n",
    "                                    means['Application Date']) / stds['Application Date'])\n",
    "    query.at[0, 'Debt-To-Income Ratio'] = (dti - means['Debt-To-Income Ratio']) / stds['Debt-To-Income Ratio']\n",
    "    query.at[0, state] = (1 - means[state]) / stds[state]\n",
    "    \n",
    "    if emp_len >= 10:\n",
    "        emp_len = '10+ years'\n",
    "    elif emp_len <= 1:\n",
    "        emp_len = '< 1 year'\n",
    "    else:\n",
    "        emp_len = str(int(emp_len)) + \" years\"\n",
    "    \n",
    "    query.at[0, emp_len] = (1 - means[emp_len]) / stds[emp_len]\n",
    "    \n",
    "    if amt_requested != None:\n",
    "        query.at[0, 'Amount Requested'] = (amt_requested - means['Amount Requested']) / stds['Amount Requested']\n",
    "        pred = clf.predict(query)\n",
    "        return pred[0]\n",
    "    \n",
    "    else:\n",
    "        loan_amt = 0\n",
    "        query.at[0, 'Amount Requested'] = (loan_amt - means['Amount Requested']) / stds['Amount Requested']\n",
    "        \n",
    "        while clf.predict(query)[0] == 1:\n",
    "            loan_amt += 1000 # incremental steps of 100 dollars until cannot loan anymore\n",
    "            query.at[0, 'Amount Requested'] = (loan_amt - means['Amount Requested']) / stds['Amount Requested']\n",
    "        \n",
    "        if loan_amt > 0:\n",
    "            loan_amt -= 1000 # revert to the last \"acceptable\" loan\n",
    "        return loan_amt"
   ]
  },
  {
   "cell_type": "markdown",
   "metadata": {},
   "source": [
    "**Step 3**: Build a 5-NN classifier to predict on new data"
   ]
  },
  {
   "cell_type": "code",
   "execution_count": 32,
   "metadata": {},
   "outputs": [
    {
     "data": {
      "text/plain": [
       "KNeighborsClassifier(algorithm='auto', leaf_size=30, metric='minkowski',\n",
       "           metric_params=None, n_jobs=None, n_neighbors=5, p=2,\n",
       "           weights='uniform')"
      ]
     },
     "execution_count": 32,
     "metadata": {},
     "output_type": "execute_result"
    }
   ],
   "source": [
    "loan_clf = KNeighborsClassifier(n_neighbors=5)\n",
    "loan_clf.fit(data_norm, targets)"
   ]
  },
  {
   "cell_type": "markdown",
   "metadata": {},
   "source": [
    "*Scenario 1*: All inputs available. Client knows how much he/she wants to loan and wants to check if it's possible to loan that amount given the conditions"
   ]
  },
  {
   "cell_type": "code",
   "execution_count": 33,
   "metadata": {},
   "outputs": [
    {
     "name": "stdout",
     "output_type": "stream",
     "text": [
      "Congratulations, you're most likely qualified for this loan!\n"
     ]
    }
   ],
   "source": [
    "if loan_qualify(loan_clf, 'CA', 20000, '2012-02-13', 10, emp_len=5) == 1:\n",
    "    print(\"Congratulations, you're most likely qualified for this loan!\")\n",
    "else:\n",
    "    print(\"Unfortunately, you risk getting a rejection for this loan.\")"
   ]
  },
  {
   "cell_type": "code",
   "execution_count": 97,
   "metadata": {},
   "outputs": [
    {
     "name": "stdout",
     "output_type": "stream",
     "text": [
      "Unfortunately, you risk getting a rejection for this loan.\n"
     ]
    }
   ],
   "source": [
    "if loan_qualify(loan_clf, 'CA', 20000, '2007-02-13', 10, 5) == 1:\n",
    "    print(\"Congratulations, you're most likely qualified for this loan!\")\n",
    "else:\n",
    "    print(\"Unfortunately, you risk getting a rejection for this loan.\")"
   ]
  },
  {
   "cell_type": "markdown",
   "metadata": {},
   "source": [
    "In the crisis times, the same person would not likely receive a loan."
   ]
  },
  {
   "cell_type": "markdown",
   "metadata": {},
   "source": [
    "*Scenario 2*: Amount not given. The client wants to know how much maximum he/she can loan."
   ]
  },
  {
   "cell_type": "code",
   "execution_count": 98,
   "metadata": {},
   "outputs": [
    {
     "name": "stdout",
     "output_type": "stream",
     "text": [
      "The largest loan you can possibly get:  0\n"
     ]
    }
   ],
   "source": [
    "print(\"The largest loan you can possibly get: \",\n",
    "      loan_qualify(loan_clf, app_date='2007-10-10', state='AZ', dti=100, emp_len=0))"
   ]
  },
  {
   "cell_type": "markdown",
   "metadata": {},
   "source": [
    "**Step 4**: We will now plot our decision boundary and the actual data to see how well our model works and where are its pitfalls"
   ]
  },
  {
   "cell_type": "code",
   "execution_count": 57,
   "metadata": {},
   "outputs": [
    {
     "data": {
      "image/png": "[encoded data removed]",
      "text/plain": [
       "<Figure size 864x432 with 1 Axes>"
      ]
     },
     "metadata": {
      "needs_background": "light"
     },
     "output_type": "display_data"
    }
   ],
   "source": [
    "from itertools import product\n",
    "import numpy as np\n",
    "import matplotlib.pyplot as plt\n",
    "\n",
    "clf = KNeighborsClassifier(n_neighbors=5)\n",
    "clf.fit(X_sub.loc[:, ['Amount Requested', 'Debt-To-Income Ratio']], y_sub)\n",
    "\n",
    "# Plotting decision regions\n",
    "x1_min, x1_max = X_sub['Amount Requested'].min() - 1, X_sub['Amount Requested'].max() + 1\n",
    "x2_min, x2_max = X_sub['Debt-To-Income Ratio'].min() - 1, X_sub['Debt-To-Income Ratio'].max() + 1\n",
    "xx1, xx2 = np.meshgrid(np.arange(x1_min, x1_max, 0.1),\n",
    "                       np.arange(x2_min, x2_max, 0.1))\n",
    "\n",
    "for clf, tt in [(clf, 'KNN (k=5)')]:\n",
    "    Z = clf.predict(np.c_[xx1.ravel(), xx2.ravel()])\n",
    "    Z = Z.reshape(xx1.shape)\n",
    "\n",
    "    plt.figure(figsize=(12, 6))\n",
    "    plt.contourf(xx1, xx2, Z, alpha=0.4)\n",
    "    plt.ylim(-1, 4)\n",
    "    plt.xlabel('Amount requested, normalized')\n",
    "    plt.ylabel('Debt-to-income ratio, normalized')\n",
    "    plt.scatter(X_sub['Amount Requested'], X_sub['Debt-To-Income Ratio'], c=y_sub,\n",
    "                                  s=40, edgecolor='k')\n",
    "\n",
    "plt.show()"
   ]
  },
  {
   "cell_type": "markdown",
   "metadata": {},
   "source": [
    "The above plot is the same kNN trained on amount requested and DTI. Purple shows the region acceptable loans and the yellow shows the region of rejectable loans. We can see that as debt-to-ratio increases, there needs to be a higher amount requested (e.g., if someone is lending only $100, and it causes your dti to be 90% then there's something wrong). We can also see that generally the class that has lower DTI is more likely to get a loan approved, whereas the class which has high DTI is unlikely to be approved."
   ]
  },
  {
   "cell_type": "code",
   "execution_count": 103,
   "metadata": {},
   "outputs": [
    {
     "data": {
      "image/png": "[encoded data removed]",
      "text/plain": [
       "<Figure size 864x432 with 1 Axes>"
      ]
     },
     "metadata": {
      "needs_background": "light"
     },
     "output_type": "display_data"
    }
   ],
   "source": [
    "acc_idx = targets.index[targets == 1].tolist()\n",
    "rej_idx = targets.index[targets == 0].tolist()\n",
    "\n",
    "plt.figure(figsize=(12, 6))\n",
    "plt.xlabel('Amount requested, normalized')\n",
    "plt.ylim(-1, 4)\n",
    "plt.xlim(-2.3, 4.3) # to look like plot above\n",
    "plt.ylabel('Debt-to-income ratio, normalized')\n",
    "\n",
    "plt.scatter(data_norm['Amount Requested'][acc_idx], data_norm['Debt-To-Income Ratio'][acc_idx], color=\"blue\", alpha=0.05)\n",
    "plt.scatter(data_norm['Amount Requested'][rej_idx], data_norm['Debt-To-Income Ratio'][rej_idx], color=\"red\", alpha=0.05)\n",
    "plt.show()"
   ]
  },
  {
   "cell_type": "markdown",
   "metadata": {},
   "source": [
    "This is actual data, normalized. Red dots mean rejection, while blue dots mean acceptance. We can observe the similar behavior as in the decision boundary analysis above."
   ]
  },
  {
   "cell_type": "code",
   "execution_count": 100,
   "metadata": {},
   "outputs": [
    {
     "data": {
      "image/png": "[encoded data removed]",
      "text/plain": [
       "<Figure size 864x432 with 1 Axes>"
      ]
     },
     "metadata": {
      "needs_background": "light"
     },
     "output_type": "display_data"
    }
   ],
   "source": [
    "restored_data = data_norm * stds + means\n",
    "\n",
    "plt.figure(figsize=(12, 6))\n",
    "plt.xlabel('Amount requested, $')\n",
    "plt.ylim(-1, 100)\n",
    "plt.ylabel('Debt-to-income ratio, %')\n",
    "\n",
    "plt.scatter(restored_data['Amount Requested'][acc_idx], restored_data['Debt-To-Income Ratio'][acc_idx], color=\"blue\", alpha=0.05)\n",
    "plt.scatter(restored_data['Amount Requested'][rej_idx], restored_data['Debt-To-Income Ratio'][rej_idx], color=\"red\", alpha=0.05)\n",
    "plt.show()"
   ]
  },
  {
   "cell_type": "markdown",
   "metadata": {},
   "source": [
    "This plot is the actual responses in the original dataset. We can see a similar tendency as in our predicted model. If we have a high DTI, then it better be because of the amount the requested is large enough (e.g., 12,000). After a certain level of DTI, there is almost no acceptance. Also, we can see that this dataset might not be too good for predicting loan amounts larger than 25,000 since these people most likely have substantial reasons (e.g., in features we did not extract like loan title, description of loan usage), so they do or do not get rejected based on that. In our kNN case based on other features, high requested amounts are just straightforward \"accepted\" since we do not have a good classification criterion there."
   ]
  },
  {
   "cell_type": "code",
   "execution_count": null,
   "metadata": {},
   "outputs": [],
   "source": []
  }
 ],
 "metadata": {
  "kernelspec": {
   "display_name": "Python 3",
   "language": "python",
   "name": "python3"
  },
  "language_info": {
   "codemirror_mode": {
    "name": "ipython",
    "version": 3
   },
   "file_extension": ".py",
   "mimetype": "text/x-python",
   "name": "python",
   "nbconvert_exporter": "python",
   "pygments_lexer": "ipython3",
   "version": "3.6.5"
  }
 },
 "nbformat": 4,
 "nbformat_minor": 2
}
