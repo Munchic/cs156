{
 "cells": [
  {
   "cell_type": "code",
   "execution_count": 113,
   "metadata": {},
   "outputs": [],
   "source": [
    "import os\n",
    "import numpy as np\n",
    "from sklearn import decomposition\n",
    "import matplotlib.pyplot as plt\n",
    "from PIL import Image\n",
    "\n",
    "CROP_AREA = (0, 0, 100, 100) # x-start, y-start, x-end, y-end\n",
    "n_components = 10\n",
    "\n",
    "class Dataset:\n",
    "    data = []\n",
    "    targets = []\n",
    "    \n",
    "labels = {\n",
    "    'jersey': 0,\n",
    "    'shirt': 1\n",
    "}\n",
    "\n",
    "dataset = Dataset()\n",
    "\n",
    "for lbl in labels:\n",
    "    for image in os.listdir('img/' + lbl)[:200]:\n",
    "        cur_img = Image.open('img/' + lbl + '/' + image).crop(CROP_AREA)\n",
    "        dataset.data.append(np.array(cur_img).flatten())\n",
    "        dataset.targets.append(labels[lbl])"
   ]
  },
  {
   "cell_type": "code",
   "execution_count": 114,
   "metadata": {},
   "outputs": [
    {
     "data": {
      "text/plain": [
       "400"
      ]
     },
     "execution_count": 114,
     "metadata": {},
     "output_type": "execute_result"
    }
   ],
   "source": [
    "len(dataset.data)"
   ]
  },
  {
   "cell_type": "code",
   "execution_count": 115,
   "metadata": {},
   "outputs": [
    {
     "data": {
      "text/plain": [
       "PCA(copy=True, iterated_power='auto', n_components=10, random_state=None,\n",
       "  svd_solver='randomized', tol=0.0, whiten=True)"
      ]
     },
     "execution_count": 115,
     "metadata": {},
     "output_type": "execute_result"
    }
   ],
   "source": [
    "estimator = decomposition.PCA(n_components=n_components, svd_solver='randomized', whiten=True)\n",
    "estimator.fit(dataset.data)"
   ]
  },
  {
   "cell_type": "code",
   "execution_count": 134,
   "metadata": {},
   "outputs": [],
   "source": [
    "proj_imgs = estimator.transform(dataset.data)\n",
    "restored_imgs = estimator.inverse_transform(proj_imgs)\n",
    "\n",
    "restored_imgs = np.reshape(restored_imgs, (400, 100, 100, 3))"
   ]
  },
  {
   "cell_type": "code",
   "execution_count": 135,
   "metadata": {},
   "outputs": [],
   "source": [
    "rest_img = Image.fromarray(restored_imgs[30], 'RGB')\n",
    "rest_img.show()"
   ]
  },
  {
   "cell_type": "raw",
   "metadata": {},
   "source": [
    "print(proj_imgs)"
   ]
  },
  {
   "cell_type": "code",
   "execution_count": null,
   "metadata": {},
   "outputs": [],
   "source": []
  }
 ],
 "metadata": {
  "kernelspec": {
   "display_name": "Python 3",
   "language": "python",
   "name": "python3"
  },
  "language_info": {
   "codemirror_mode": {
    "name": "ipython",
    "version": 3
   },
   "file_extension": ".py",
   "mimetype": "text/x-python",
   "name": "python",
   "nbconvert_exporter": "python",
   "pygments_lexer": "ipython3",
   "version": "3.6.5"
  }
 },
 "nbformat": 4,
 "nbformat_minor": 2
}
