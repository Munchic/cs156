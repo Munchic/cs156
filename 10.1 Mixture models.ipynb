{
 "cells": [
  {
   "cell_type": "markdown",
   "metadata": {},
   "source": [
    "#### Fraud: A how-to guide\n",
    "In this problem, you will use density modeling to try and ensure that there are no statistical irregularities in data that you have generated yourself.\n",
    "\n",
    "1. Download the following data containing personal transactions over a period of several years: https://course-resources.minerva.kgi.edu/uploaded_files/mke/Y5GZpr/anonymized.csv\n",
    "2. Now build a density model for the number of transactions that occur in a single month.\n",
    "3. Create plots showing the distribution that you’ve created.\n",
    "4. Draw 10 samples from this density model using scikit.learn."
   ]
  },
  {
   "cell_type": "code",
   "execution_count": 3,
   "metadata": {},
   "outputs": [],
   "source": [
    "import pandas as pd\n",
    "\n",
    "trans = pd.read_csv('10.1 fraud detection.csv')"
   ]
  },
  {
   "cell_type": "code",
   "execution_count": 4,
   "metadata": {},
   "outputs": [
    {
     "data": {
      "text/html": [
       "<div>\n",
       "<style scoped>\n",
       "    .dataframe tbody tr th:only-of-type {\n",
       "        vertical-align: middle;\n",
       "    }\n",
       "\n",
       "    .dataframe tbody tr th {\n",
       "        vertical-align: top;\n",
       "    }\n",
       "\n",
       "    .dataframe thead th {\n",
       "        text-align: right;\n",
       "    }\n",
       "</style>\n",
       "<table border=\"1\" class=\"dataframe\">\n",
       "  <thead>\n",
       "    <tr style=\"text-align: right;\">\n",
       "      <th></th>\n",
       "      <th>Date</th>\n",
       "      <th>Amount</th>\n",
       "    </tr>\n",
       "  </thead>\n",
       "  <tbody>\n",
       "    <tr>\n",
       "      <th>0</th>\n",
       "      <td>25May2016</td>\n",
       "      <td>54241.35</td>\n",
       "    </tr>\n",
       "    <tr>\n",
       "      <th>1</th>\n",
       "      <td>29May2017</td>\n",
       "      <td>54008.83</td>\n",
       "    </tr>\n",
       "    <tr>\n",
       "      <th>2</th>\n",
       "      <td>30Jun2017</td>\n",
       "      <td>54008.82</td>\n",
       "    </tr>\n",
       "    <tr>\n",
       "      <th>3</th>\n",
       "      <td>05Jan2017</td>\n",
       "      <td>52704.37</td>\n",
       "    </tr>\n",
       "    <tr>\n",
       "      <th>4</th>\n",
       "      <td>23Feb2017</td>\n",
       "      <td>52704.36</td>\n",
       "    </tr>\n",
       "  </tbody>\n",
       "</table>\n",
       "</div>"
      ],
      "text/plain": [
       "        Date    Amount\n",
       "0  25May2016  54241.35\n",
       "1  29May2017  54008.83\n",
       "2  30Jun2017  54008.82\n",
       "3  05Jan2017  52704.37\n",
       "4  23Feb2017  52704.36"
      ]
     },
     "execution_count": 4,
     "metadata": {},
     "output_type": "execute_result"
    }
   ],
   "source": [
    "trans.head()"
   ]
  },
  {
   "cell_type": "code",
   "execution_count": 75,
   "metadata": {},
   "outputs": [],
   "source": [
    "import numpy as np\n",
    "\n",
    "# let's pick month of May 2016\n",
    "may16 = trans.iloc[np.where(trans['Date'].str.contains('May2016'))]"
   ]
  },
  {
   "cell_type": "code",
   "execution_count": 76,
   "metadata": {},
   "outputs": [
    {
     "data": {
      "text/html": [
       "<div>\n",
       "<style scoped>\n",
       "    .dataframe tbody tr th:only-of-type {\n",
       "        vertical-align: middle;\n",
       "    }\n",
       "\n",
       "    .dataframe tbody tr th {\n",
       "        vertical-align: top;\n",
       "    }\n",
       "\n",
       "    .dataframe thead th {\n",
       "        text-align: right;\n",
       "    }\n",
       "</style>\n",
       "<table border=\"1\" class=\"dataframe\">\n",
       "  <thead>\n",
       "    <tr style=\"text-align: right;\">\n",
       "      <th></th>\n",
       "      <th>Date</th>\n",
       "      <th>Amount</th>\n",
       "    </tr>\n",
       "  </thead>\n",
       "  <tbody>\n",
       "    <tr>\n",
       "      <th>0</th>\n",
       "      <td>25May2016</td>\n",
       "      <td>54241.35</td>\n",
       "    </tr>\n",
       "    <tr>\n",
       "      <th>32</th>\n",
       "      <td>23May2016</td>\n",
       "      <td>43198.67</td>\n",
       "    </tr>\n",
       "    <tr>\n",
       "      <th>60</th>\n",
       "      <td>13May2016</td>\n",
       "      <td>18400.00</td>\n",
       "    </tr>\n",
       "    <tr>\n",
       "      <th>227</th>\n",
       "      <td>05May2016</td>\n",
       "      <td>100.00</td>\n",
       "    </tr>\n",
       "    <tr>\n",
       "      <th>241</th>\n",
       "      <td>10May2016</td>\n",
       "      <td>38.00</td>\n",
       "    </tr>\n",
       "  </tbody>\n",
       "</table>\n",
       "</div>"
      ],
      "text/plain": [
       "          Date    Amount\n",
       "0    25May2016  54241.35\n",
       "32   23May2016  43198.67\n",
       "60   13May2016  18400.00\n",
       "227  05May2016    100.00\n",
       "241  10May2016     38.00"
      ]
     },
     "execution_count": 76,
     "metadata": {},
     "output_type": "execute_result"
    }
   ],
   "source": [
    "may16.head()"
   ]
  },
  {
   "cell_type": "code",
   "execution_count": 77,
   "metadata": {},
   "outputs": [
    {
     "data": {
      "text/plain": [
       "array([ 5.424135e+04,  4.319867e+04,  1.840000e+04,  1.000000e+02,\n",
       "        3.800000e+01,  3.800000e+01,  1.102000e+01, -2.040000e+01,\n",
       "       -2.697000e+01, -3.200000e+01, -3.798000e+01, -3.798000e+01,\n",
       "       -3.798000e+01, -4.320000e+01, -6.600000e+01, -1.300000e+02,\n",
       "       -1.913900e+02, -3.289800e+02, -3.420000e+02, -3.490000e+02,\n",
       "       -3.523200e+02, -5.168800e+02, -6.000000e+02, -6.250000e+02,\n",
       "       -6.810000e+02, -6.842500e+02, -7.000000e+02, -1.500000e+03,\n",
       "       -1.565700e+03, -1.776000e+03, -2.250000e+03, -3.470000e+03,\n",
       "       -5.000000e+03, -5.300000e+03, -7.804170e+03, -1.000000e+04,\n",
       "       -1.400000e+04, -1.800000e+04])"
      ]
     },
     "execution_count": 77,
     "metadata": {},
     "output_type": "execute_result"
    }
   ],
   "source": [
    "trans_may16 = np.array(may16['Amount'])\n",
    "trans_may16"
   ]
  },
  {
   "cell_type": "code",
   "execution_count": 108,
   "metadata": {},
   "outputs": [],
   "source": [
    "from sklearn.mixture import GaussianMixture\n",
    "\n",
    "key_freq = trans_may16.reshape(-1, 1)\n",
    "gm = GaussianMixture(n_components=2).fit(key_freq)"
   ]
  },
  {
   "cell_type": "code",
   "execution_count": 109,
   "metadata": {},
   "outputs": [],
   "source": [
    "probs = gm.score_samples(key_freq)"
   ]
  },
  {
   "cell_type": "code",
   "execution_count": 110,
   "metadata": {},
   "outputs": [
    {
     "data": {
      "image/png": "[encoded data removed]",
      "text/plain": [
       "<Figure size 432x288 with 1 Axes>"
      ]
     },
     "metadata": {
      "needs_background": "light"
     },
     "output_type": "display_data"
    }
   ],
   "source": [
    "from matplotlib import pyplot as plt\n",
    "\n",
    "plt.scatter(trans_may16, probs)\n",
    "plt.show()"
   ]
  },
  {
   "cell_type": "markdown",
   "metadata": {},
   "source": [
    "#### Clustering survey data\n",
    "In this problem, you will use expectation maximization (EM) on survey data. For the statistical model that we wish to fit, we will assume that everyone comes from one of four clusters.\n",
    "\n",
    "1. Download the following python script which generates (synthetic) responses to a binary questionnaire: https://course-resources.minerva.kgi.edu/uploaded_files/mke/VNN0ZV/questionnaire.py\n",
    "2. Use the script to generate an example dataset.\n",
    "3. Download the following python script which (will) infer which person belonged to which cluster: https://course-resources.minerva.kgi.edu/uploaded_files/mke/Y60gqr/questionnaire-cluster.py In particular you will need to:\n",
    "4. Estimate the probability of a person belonging to a particular cluster.\n",
    "5. Estimate the maximum likelihood parameters for the biases. This is the probability that a person from a particular cluster will answer true to a particular question."
   ]
  },
  {
   "cell_type": "code",
   "execution_count": 99,
   "metadata": {},
   "outputs": [
    {
     "name": "stdout",
     "output_type": "stream",
     "text": [
      "[0 0 0 3 3 1 1 0 1 1 1 0 2 0 3 1 2 2 0 2 0 0 1 1 1 0 1 0 1 0 2 3 0 1 0 1 0\n",
      " 0 2 3 1 1 0 3 3 1 2 0 1 0 2 1 0 1 0 3 3 1 1 0 1 1 3 1 3 3 2 1 2 0 0 0 3 1\n",
      " 3 0 1 1 0 1 2 1 0 2 1 0 3 0 0 2 0 2 0 0 0 1 0 0 1 0 2 1 0 1 0 1 3 1 0 0 0\n",
      " 0 3 0 0 0 0 0 2 3 0 0 0 2 2 0 3 2 0 1 1 0 0 2 1 0 0 1 3 1 1 3 2 3 3 1 1 1\n",
      " 1 2 1 1 2 0 3 0 1 1 1 1 1 1 0 0 2 3 2 0 0 3 1 1 1 0 3 0 2 1 2 1 1 3 0 1 0\n",
      " 1 1 0 1 0 0 2 0 3 0 1 3 0 0 3 2 2 1 0 0 2 2 0 3 0 0 2 2 2 1 1 0 2 2 1 2 1\n",
      " 0 0 0 3 0 0 1 2 1 0 0 0 0 1 0 3 0 1 0 1 1 1 0 0 2 1 1 1 0 2 1 0 1 3 0 0 0\n",
      " 3 0 0 1 1 0 0 2 0 2 0 1 3 1 0 0 3 3 3 1 0 0 2 0 0 1 1 0 0 1 0 2 0 1 1 0 1\n",
      " 0 2 3 0 0 3 0 2 1 1 2 2 1 0 1 0 2 1 1 0 3 2 2 0 2 1 0 0 1 0 1 3 1 2 2 2 0\n",
      " 0 3 0 3 0 1 2 1 0 3 2 0 1 0 3 0 2 1 1 3 1 3 1 1 0 1 0 2 0 2 1 1 1 1 0 1 1\n",
      " 1 1 2 0 0 3 3 1 0 0 1 1 1 1 2 2 3 0 0 1 0 2 2 2 0 3 0 3 2 0 0 2 2 1 3 3 2\n",
      " 0 0 1 2 1 0 0 0 2 0 0 2 0 0 3 3 0 0 2 2 0 3 0 1 3 0 3 3 1 0 2 0 1 2 1 0 0\n",
      " 0 2 3 1 2 1 1 1 2 1 2 0 0 0 0 2 1 1 0 0 1 0 2 0 0 0 1 0 0 3 0 2 0 0 0 1 0\n",
      " 0 2 2 0 3 0 0 1 1 0 0 0 0 0 0 0 1 0 0 3 3 1 1 1 0 0 0 0 3 3 1 1 1 2 1 0 2\n",
      " 1 2 2 1 1 0 1 3 3 1 3 2 1 0 0 0 0 2 3 3 1 0 1 1 0 1 0 0 1 0 0 0 0 3 0 3 0\n",
      " 2 1 1 2 3 0 3 0 0 0 1 0 1 1 3 1 0 0 0 1 2 2 3 0 0 0 0 1 2 3 1 0 1 0 0 0 1\n",
      " 3 2 0 0 3 1 3 1 1 2 0 1 1 1 3 2 1 0 2 0 3 1 0 3 0 0 2 0 3 1 1 1 0 0 0 1 2\n",
      " 0 2 2 0 2 2 0 3 0 1 0 2 1 1 0 0 0 0 2 0 1 3 2 3 2 1 2 1 2 1 0 2 0 2 3 3 0\n",
      " 3 0 1 0 3 0 0 1 1 0 1 1 3 1 0 2 0 1 2 0 2 0 2 0 1 2 0 2 0 1 0 3 2 2 1 0 3\n",
      " 2 1 1 1 3 3 0 1 1 2 1 0 2 0 1 2 1 0 1 1 1 2 3 1 2 0 0 3 1 1 0 3 0 0 2 0 3\n",
      " 3 1 0 0 1 1 3 2 1 2 0 0 2 1 1 1 3 0 3 1 0 0 3 1 0 2 1 0 3 0 0 1 2 0 0 1 3\n",
      " 2 2 3 2 0 3 3 0 1 3 0 1 3 0 0 0 1 0 1 0 1 1 0 3 2 1 0 1 2 1 2 1 1 0 2 2 3\n",
      " 1 3 1 3 2 3 1 0 1 2 1 1 3 1 0 1 0 0 0 2 0 1 2 0 1 2 2 2 1 1 0 3 0 1 0 2 1\n",
      " 0 0 2 1 0 3 3 1 0 0 1 1 0 2 1 1 1 0 0 0 1 0 1 1 0 0 1 3 3 0 0 0 0 2 1 0 1\n",
      " 0 0 2 3 3 1 0 2 2 1 1 3 2 1 0 0 1 3 0 2 1 1 1 1 1 1 1 2 0 3 3 0 0 0 3 0 1\n",
      " 2 1 0 1 1 1 2 3 0 3 2 1 1 2 1 1 3 1 0 0 2 0 0 3 0 2 2 0 1 1 0 1 3 0 0 0 0\n",
      " 1 3 1 0 0 3 3 2 0 0 0 2 1 3 1 3 1 0 3 3 2 1 1 0 0 1 2 0 2 1 3 3 1 0 0 3 1\n",
      " 1]\n"
     ]
    }
   ],
   "source": [
    "import numpy as np\n",
    "\n",
    "p_cluster = [0.4, 0.3, 0.15, 0.15]\n",
    "\n",
    "n_questions = 20\n",
    "n_people = 1000\n",
    "n_clusters = len(p_cluster)\n",
    "\n",
    "biases = np.random.beta(0.75, 0.75, size=(n_questions, n_clusters))\n",
    "people = np.random.choice(range(n_clusters), size=n_people, p=p_cluster)\n",
    "\n",
    "answers = np.zeros((n_people, n_questions), dtype=bool)\n",
    "\n",
    "for a in range(n_people):\n",
    "    cluster = people[a]\n",
    "    answers[a, :] = np.random.rand(n_questions) < biases[:, cluster]\n",
    "\n",
    "print(people)\n",
    "\n",
    "np.savetxt(\"10.1 questionnaire.csv\", answers, delimiter=\",\", fmt=\"%d\")\n",
    "np.savetxt(\"10.1 questionnaire_answers.csv\", people, delimiter=\",\", fmt=\"%d\")\n",
    "np.savetxt(\"10.1 questionnaire_biases.csv\", biases, delimiter=\",\", fmt=\"%.3f\")"
   ]
  },
  {
   "cell_type": "code",
   "execution_count": 116,
   "metadata": {},
   "outputs": [
    {
     "ename": "ValueError",
     "evalue": "operands could not be broadcast together with shapes (1000,20) (20,4) ",
     "output_type": "error",
     "traceback": [
      "\u001b[0;31m---------------------------------------------------------------------------\u001b[0m",
      "\u001b[0;31mValueError\u001b[0m                                Traceback (most recent call last)",
      "\u001b[0;32m<ipython-input-116-4a6340c9d85c>\u001b[0m in \u001b[0;36m<module>\u001b[0;34m\u001b[0m\n\u001b[1;32m     25\u001b[0m \u001b[0;34m\u001b[0m\u001b[0m\n\u001b[1;32m     26\u001b[0m \u001b[0;32mfor\u001b[0m \u001b[0mstep\u001b[0m \u001b[0;32min\u001b[0m \u001b[0mrange\u001b[0m\u001b[0;34m(\u001b[0m\u001b[0;36m10\u001b[0m\u001b[0;34m)\u001b[0m\u001b[0;34m:\u001b[0m\u001b[0;34m\u001b[0m\u001b[0m\n\u001b[0;32m---> 27\u001b[0;31m     \u001b[0mpeople\u001b[0m \u001b[0;34m=\u001b[0m \u001b[0mexpectation\u001b[0m\u001b[0;34m(\u001b[0m\u001b[0manswers\u001b[0m\u001b[0;34m,\u001b[0m \u001b[0mbiases\u001b[0m\u001b[0;34m,\u001b[0m \u001b[0mp_clusters\u001b[0m\u001b[0;34m)\u001b[0m\u001b[0;34m\u001b[0m\u001b[0m\n\u001b[0m\u001b[1;32m     28\u001b[0m     \u001b[0mbiases\u001b[0m \u001b[0;34m=\u001b[0m \u001b[0mmaximization\u001b[0m\u001b[0;34m(\u001b[0m\u001b[0manswers\u001b[0m\u001b[0;34m,\u001b[0m \u001b[0mpeople\u001b[0m\u001b[0;34m)\u001b[0m\u001b[0;34m\u001b[0m\u001b[0m\n\u001b[1;32m     29\u001b[0m \u001b[0;34m\u001b[0m\u001b[0m\n",
      "\u001b[0;32m<ipython-input-116-4a6340c9d85c>\u001b[0m in \u001b[0;36mexpectation\u001b[0;34m(answers, biases, p_clusters)\u001b[0m\n\u001b[1;32m      9\u001b[0m     \u001b[0;31m# In this function we create our expectations.\u001b[0m\u001b[0;34m\u001b[0m\u001b[0;34m\u001b[0m\u001b[0m\n\u001b[1;32m     10\u001b[0m \u001b[0;34m\u001b[0m\u001b[0m\n\u001b[0;32m---> 11\u001b[0;31m     \u001b[0mpeople\u001b[0m \u001b[0;34m=\u001b[0m \u001b[0mnp\u001b[0m\u001b[0;34m.\u001b[0m\u001b[0mdot\u001b[0m\u001b[0;34m(\u001b[0m\u001b[0mp_clusters\u001b[0m\u001b[0;34m,\u001b[0m \u001b[0mnp\u001b[0m\u001b[0;34m.\u001b[0m\u001b[0mexp\u001b[0m\u001b[0;34m(\u001b[0m\u001b[0;34m-\u001b[0m\u001b[0;36m1\u001b[0m\u001b[0;34m/\u001b[0m\u001b[0;36m2\u001b[0m \u001b[0;34m*\u001b[0m \u001b[0;34m(\u001b[0m\u001b[0manswers\u001b[0m \u001b[0;34m-\u001b[0m \u001b[0mbiases\u001b[0m\u001b[0;34m)\u001b[0m\u001b[0;34m**\u001b[0m\u001b[0;36m2\u001b[0m\u001b[0;34m)\u001b[0m\u001b[0;34m)\u001b[0m\u001b[0;34m\u001b[0m\u001b[0m\n\u001b[0m\u001b[1;32m     12\u001b[0m \u001b[0;34m\u001b[0m\u001b[0m\n\u001b[1;32m     13\u001b[0m     \u001b[0;31m# normalize the distributions\u001b[0m\u001b[0;34m\u001b[0m\u001b[0;34m\u001b[0m\u001b[0m\n",
      "\u001b[0;31mValueError\u001b[0m: operands could not be broadcast together with shapes (1000,20) (20,4) "
     ]
    }
   ],
   "source": [
    "answers = np.loadtxt(\"10.1 questionnaire.csv\", delimiter=\",\")\n",
    "n_people, n_questions = answers.shape\n",
    "n_clusters = 4\n",
    "\n",
    "p_clusters = np.asarray([0.25, 0.25, 0.25, 0.25])\n",
    "biases = np.random.beta(0.75, 0.75, size=(n_questions, n_clusters))\n",
    "\n",
    "def expectation(answers, biases, p_clusters):\n",
    "    # In this function we create our expectations.\n",
    "    \n",
    "    people = np.dot(p_clusters, np.exp(-1/2 * (answers - biases)**2))\n",
    "\n",
    "    # normalize the distributions\n",
    "    people = people / people.sum(axis=1, keepdims=1)\n",
    "    return people\n",
    "\n",
    "\n",
    "def maximization(answers, people):\n",
    "    # Treating all the data as visible, now infer the parameters for the model.\n",
    "\n",
    "    # This is probably not the correct answer!\n",
    "    biases = np.zeros((n_questions, n_clusters)) + 0.5\n",
    "    return biases\n",
    "\n",
    "\n",
    "for step in range(10):\n",
    "    people = expectation(answers, biases, p_clusters)\n",
    "    biases = maximization(answers, people)\n",
    "\n",
    "print(biases)\n",
    "print(people)"
   ]
  },
  {
   "cell_type": "code",
   "execution_count": null,
   "metadata": {},
   "outputs": [],
   "source": []
  }
 ],
 "metadata": {
  "kernelspec": {
   "display_name": "Python 3",
   "language": "python",
   "name": "python3"
  },
  "language_info": {
   "codemirror_mode": {
    "name": "ipython",
    "version": 3
   },
   "file_extension": ".py",
   "mimetype": "text/x-python",
   "name": "python",
   "nbconvert_exporter": "python",
   "pygments_lexer": "ipython3",
   "version": "3.6.5"
  }
 },
 "nbformat": 4,
 "nbformat_minor": 2
}
