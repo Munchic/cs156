{
 "cells": [
  {
   "cell_type": "code",
   "execution_count": 97,
   "metadata": {},
   "outputs": [],
   "source": [
    "import math\n",
    "import random\n",
    "\n",
    "random.seed(20190206)\n",
    "\n",
    "def prob_of_outcome(mean, sd, coin_val):\n",
    "    return 1 / (sd * (2 * math.pi)**.5) * math.exp(-(coin_val - mean)**2 / (2 * sd**2))\n",
    "\n",
    "def init_distrib():\n",
    "    return random.random(), random.random() / 4\n",
    "\n",
    "def p_dst_given_outcome(p_coin_given_1, p_coin_given_2, which, p_dst_1 = 0.5, p_dst_2 = 0.5):\n",
    "    denom = p_coin_given_1 * p_dst_1 + p_coin_given_2 * p_dst_2\n",
    "    \n",
    "    if which == 1:\n",
    "        return p_coin_given_1 * p_dst_1 / denom\n",
    "    elif which == 2:\n",
    "        return p_coin_given_2 * p_dst_2 / denom\n",
    "    \n",
    "def update_mean(p_coin_given_dst, coin_vals):\n",
    "    return sum(map(lambda pair: pair[0] * pair[1], zip(p_coin_given_dst, coin_vals))) / sum(p_coin_given_dst)\n",
    "\n",
    "def update_sd(p_coin_given_dst, coin_vals, mean):\n",
    "    return sum(map(lambda pair: pair[0] * (pair[1] - mean), zip(p_coin_given_dst, coin_vals))) / sum(p_coin_given_dst)"
   ]
  },
  {
   "cell_type": "code",
   "execution_count": 122,
   "metadata": {},
   "outputs": [],
   "source": [
    "def em_infer(coin_vals):\n",
    "    exp_mean_1, exp_sd_1 = init_distrib()\n",
    "    exp_mean_2, exp_sd_2 = init_distrib()\n",
    "    \n",
    "    p_coin_given_1 = [0] * len(coin_vals)\n",
    "    p_coin_given_2 = [0] * len(coin_vals)\n",
    "    p_1_given_coin = [0] * len(coin_vals)\n",
    "    p_2_given_coin = [0] * len(coin_vals)\n",
    "    \n",
    "    for i in range(10): # repeat for 10 iterations\n",
    "        for c in range(len(coin_vals)):\n",
    "            print(i, c, exp_mean_1, exp_sd_1, prob_of_outcome(exp_mean_1, exp_sd_1, coin_vals[c]))\n",
    "            p_coin_given_1[c] = prob_of_outcome(exp_mean_1, exp_sd_1, coin_vals[c])\n",
    "            p_coin_given_2[c] = prob_of_outcome(exp_mean_2, exp_sd_2, coin_vals[c])\n",
    "            \n",
    "            p_1_given_coin[c] = p_dst_given_outcome(p_coin_given_1[c], p_coin_given_2[c], 1)\n",
    "            p_2_given_coin[c] = p_dst_given_outcome(p_coin_given_1[c], p_coin_given_2[c], 2)\n",
    "        \n",
    "        exp_mean_1 = update_mean(p_coin_given_1, coin_vals)\n",
    "        exp_mean_2 = update_mean(p_coin_given_2, coin_vals)\n",
    "        \n",
    "        exp_sd_1 = update_sd(p_coin_given_1, coin_vals, exp_mean_1)\n",
    "        exp_sd_2 = update_sd(p_coin_given_2, coin_vals, exp_mean_2)\n",
    "\n",
    "    return exp_mean_1, exp_sd1, exp_mean_2, exp_sd_2"
   ]
  },
  {
   "cell_type": "code",
   "execution_count": 123,
   "metadata": {},
   "outputs": [
    {
     "name": "stdout",
     "output_type": "stream",
     "text": [
      "0 0 0.49229688079907374 0.1588391554817862 1.6000833911572072\n",
      "0 1 0.49229688079907374 0.1588391554817862 0.56024833127325\n",
      "0 2 0.49229688079907374 0.1588391554817862 0.27607333306280263\n",
      "0 3 0.49229688079907374 0.1588391554817862 2.352243635305771\n",
      "0 4 0.49229688079907374 0.1588391554817862 0.02060882179735305\n",
      "0 5 0.49229688079907374 0.1588391554817862 0.7508803600930731\n",
      "0 6 0.49229688079907374 0.1588391554817862 1.374883182055531\n",
      "0 7 0.49229688079907374 0.1588391554817862 2.45850938542728\n",
      "0 8 0.49229688079907374 0.1588391554817862 2.5086599054498318\n",
      "0 9 0.49229688079907374 0.1588391554817862 0.9836609078664565\n",
      "0 10 0.49229688079907374 0.1588391554817862 0.015186424138047695\n",
      "0 11 0.49229688079907374 0.1588391554817862 0.4999239154975771\n",
      "0 12 0.49229688079907374 0.1588391554817862 1.9959727648819643\n",
      "0 13 0.49229688079907374 0.1588391554817862 0.9988641372027819\n",
      "0 14 0.49229688079907374 0.1588391554817862 2.1214561278601645\n",
      "0 15 0.49229688079907374 0.1588391554817862 1.966161849051623\n",
      "0 16 0.49229688079907374 0.1588391554817862 1.5221764990526596\n",
      "0 17 0.49229688079907374 0.1588391554817862 1.7487847361562396\n",
      "0 18 0.49229688079907374 0.1588391554817862 0.7445083420154812\n",
      "0 19 0.49229688079907374 0.1588391554817862 1.215105199321888\n",
      "1 0 0.4510800257095082 4.857281355604605e-17 0.0\n"
     ]
    },
    {
     "ename": "ZeroDivisionError",
     "evalue": "float division by zero",
     "output_type": "error",
     "traceback": [
      "\u001b[0;31m---------------------------------------------------------------------------\u001b[0m",
      "\u001b[0;31mZeroDivisionError\u001b[0m                         Traceback (most recent call last)",
      "\u001b[0;32m<ipython-input-123-42ac7bbb8889>\u001b[0m in \u001b[0;36m<module>\u001b[0;34m\u001b[0m\n\u001b[1;32m      3\u001b[0m \u001b[0;34m\u001b[0m\u001b[0m\n\u001b[1;32m      4\u001b[0m \u001b[0mcoin_vals\u001b[0m \u001b[0;34m=\u001b[0m \u001b[0mlist\u001b[0m\u001b[0;34m(\u001b[0m\u001b[0mmap\u001b[0m\u001b[0;34m(\u001b[0m\u001b[0;32mlambda\u001b[0m \u001b[0mcoin\u001b[0m\u001b[0;34m:\u001b[0m \u001b[0mcoin\u001b[0m\u001b[0;34m[\u001b[0m\u001b[0;36m0\u001b[0m\u001b[0;34m]\u001b[0m \u001b[0;34m/\u001b[0m \u001b[0mcoin\u001b[0m\u001b[0;34m[\u001b[0m\u001b[0;36m1\u001b[0m\u001b[0;34m]\u001b[0m\u001b[0;34m,\u001b[0m \u001b[0mzip\u001b[0m\u001b[0;34m(\u001b[0m\u001b[0mheads\u001b[0m\u001b[0;34m,\u001b[0m \u001b[0mthrows\u001b[0m\u001b[0;34m)\u001b[0m\u001b[0;34m)\u001b[0m\u001b[0;34m)\u001b[0m\u001b[0;34m\u001b[0m\u001b[0m\n\u001b[0;32m----> 5\u001b[0;31m \u001b[0mem_infer\u001b[0m\u001b[0;34m(\u001b[0m\u001b[0mcoin_vals\u001b[0m\u001b[0;34m)\u001b[0m\u001b[0;34m\u001b[0m\u001b[0m\n\u001b[0m",
      "\u001b[0;32m<ipython-input-122-5c89702b5b3d>\u001b[0m in \u001b[0;36mem_infer\u001b[0;34m(coin_vals)\u001b[0m\n\u001b[1;32m     14\u001b[0m             \u001b[0mp_coin_given_2\u001b[0m\u001b[0;34m[\u001b[0m\u001b[0mc\u001b[0m\u001b[0;34m]\u001b[0m \u001b[0;34m=\u001b[0m \u001b[0mprob_of_outcome\u001b[0m\u001b[0;34m(\u001b[0m\u001b[0mexp_mean_2\u001b[0m\u001b[0;34m,\u001b[0m \u001b[0mexp_sd_2\u001b[0m\u001b[0;34m,\u001b[0m \u001b[0mcoin_vals\u001b[0m\u001b[0;34m[\u001b[0m\u001b[0mc\u001b[0m\u001b[0;34m]\u001b[0m\u001b[0;34m)\u001b[0m\u001b[0;34m\u001b[0m\u001b[0m\n\u001b[1;32m     15\u001b[0m \u001b[0;34m\u001b[0m\u001b[0m\n\u001b[0;32m---> 16\u001b[0;31m             \u001b[0mp_1_given_coin\u001b[0m\u001b[0;34m[\u001b[0m\u001b[0mc\u001b[0m\u001b[0;34m]\u001b[0m \u001b[0;34m=\u001b[0m \u001b[0mp_dst_given_outcome\u001b[0m\u001b[0;34m(\u001b[0m\u001b[0mp_coin_given_1\u001b[0m\u001b[0;34m[\u001b[0m\u001b[0mc\u001b[0m\u001b[0;34m]\u001b[0m\u001b[0;34m,\u001b[0m \u001b[0mp_coin_given_2\u001b[0m\u001b[0;34m[\u001b[0m\u001b[0mc\u001b[0m\u001b[0;34m]\u001b[0m\u001b[0;34m,\u001b[0m \u001b[0;36m1\u001b[0m\u001b[0;34m)\u001b[0m\u001b[0;34m\u001b[0m\u001b[0m\n\u001b[0m\u001b[1;32m     17\u001b[0m             \u001b[0mp_2_given_coin\u001b[0m\u001b[0;34m[\u001b[0m\u001b[0mc\u001b[0m\u001b[0;34m]\u001b[0m \u001b[0;34m=\u001b[0m \u001b[0mp_dst_given_outcome\u001b[0m\u001b[0;34m(\u001b[0m\u001b[0mp_coin_given_1\u001b[0m\u001b[0;34m[\u001b[0m\u001b[0mc\u001b[0m\u001b[0;34m]\u001b[0m\u001b[0;34m,\u001b[0m \u001b[0mp_coin_given_2\u001b[0m\u001b[0;34m[\u001b[0m\u001b[0mc\u001b[0m\u001b[0;34m]\u001b[0m\u001b[0;34m,\u001b[0m \u001b[0;36m2\u001b[0m\u001b[0;34m)\u001b[0m\u001b[0;34m\u001b[0m\u001b[0m\n\u001b[1;32m     18\u001b[0m \u001b[0;34m\u001b[0m\u001b[0m\n",
      "\u001b[0;32m<ipython-input-97-b4b6d05959cb>\u001b[0m in \u001b[0;36mp_dst_given_outcome\u001b[0;34m(p_coin_given_1, p_coin_given_2, which, p_dst_1, p_dst_2)\u001b[0m\n\u001b[1;32m     14\u001b[0m \u001b[0;34m\u001b[0m\u001b[0m\n\u001b[1;32m     15\u001b[0m     \u001b[0;32mif\u001b[0m \u001b[0mwhich\u001b[0m \u001b[0;34m==\u001b[0m \u001b[0;36m1\u001b[0m\u001b[0;34m:\u001b[0m\u001b[0;34m\u001b[0m\u001b[0m\n\u001b[0;32m---> 16\u001b[0;31m         \u001b[0;32mreturn\u001b[0m \u001b[0mp_coin_given_1\u001b[0m \u001b[0;34m*\u001b[0m \u001b[0mp_dst_1\u001b[0m \u001b[0;34m/\u001b[0m \u001b[0mdenom\u001b[0m\u001b[0;34m\u001b[0m\u001b[0m\n\u001b[0m\u001b[1;32m     17\u001b[0m     \u001b[0;32melif\u001b[0m \u001b[0mwhich\u001b[0m \u001b[0;34m==\u001b[0m \u001b[0;36m2\u001b[0m\u001b[0;34m:\u001b[0m\u001b[0;34m\u001b[0m\u001b[0m\n\u001b[1;32m     18\u001b[0m         \u001b[0;32mreturn\u001b[0m \u001b[0mp_coin_given_2\u001b[0m \u001b[0;34m*\u001b[0m \u001b[0mp_dst_2\u001b[0m \u001b[0;34m/\u001b[0m \u001b[0mdenom\u001b[0m\u001b[0;34m\u001b[0m\u001b[0m\n",
      "\u001b[0;31mZeroDivisionError\u001b[0m: float division by zero"
     ]
    }
   ],
   "source": [
    "heads = [14, 33, 19, 10, 0, 17, 24, 17, 1, 36, 5, 6, 5, 13, 4, 35, 5, 5, 74, 34]\n",
    "throws = [41, 43, 23, 23, 1, 23, 36, 37, 2, 131, 5, 29, 13, 47, 10, 58, 15, 14, 100, 113]\n",
    "\n",
    "coin_vals = list(map(lambda coin: coin[0] / coin[1], zip(heads, throws)))\n",
    "em_infer(coin_vals)"
   ]
  },
  {
   "cell_type": "code",
   "execution_count": 19,
   "metadata": {},
   "outputs": [
    {
     "data": {
      "text/plain": [
       "0.560407026546516"
      ]
     },
     "execution_count": 19,
     "metadata": {},
     "output_type": "execute_result"
    }
   ],
   "source": [
    "import random\n",
    "\n",
    "random.random()"
   ]
  },
  {
   "cell_type": "code",
   "execution_count": null,
   "metadata": {},
   "outputs": [],
   "source": []
  }
 ],
 "metadata": {
  "kernelspec": {
   "display_name": "Python 3",
   "language": "python",
   "name": "python3"
  },
  "language_info": {
   "codemirror_mode": {
    "name": "ipython",
    "version": 3
   },
   "file_extension": ".py",
   "mimetype": "text/x-python",
   "name": "python",
   "nbconvert_exporter": "python",
   "pygments_lexer": "ipython3",
   "version": "3.6.5"
  }
 },
 "nbformat": 4,
 "nbformat_minor": 2
}
