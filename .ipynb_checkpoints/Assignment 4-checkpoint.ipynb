{
 "cells": [
  {
   "cell_type": "markdown",
   "metadata": {},
   "source": [
    "# Assignment 4\n",
    "## Part 1: Data preparation\n",
    "### Step 1: Import MNIST"
   ]
  },
  {
   "cell_type": "code",
   "execution_count": 4,
   "metadata": {},
   "outputs": [],
   "source": [
    "from mnist.loader import MNIST\n",
    "import numpy as np\n",
    "\n",
    "mndata = MNIST('./MNIST')\n",
    "X_train, y_train = mndata.load_training()\n",
    "X_test, y_test = mndata.load_testing()\n",
    "\n",
    "X_train, y_train = np.array(X_train), np.array(y_train)\n",
    "X_test, y_test = np.array(X_test), np.array(y_test)"
   ]
  },
  {
   "cell_type": "code",
   "execution_count": 5,
   "metadata": {},
   "outputs": [
    {
     "name": "stdout",
     "output_type": "stream",
     "text": [
      "(60000, 784)\n",
      "(10000, 784)\n"
     ]
    }
   ],
   "source": [
    "# check if dataset is full\n",
    "print(X_train.shape)\n",
    "print(X_test.shape)"
   ]
  },
  {
   "cell_type": "markdown",
   "metadata": {},
   "source": [
    "### Step 2: Get classes 3 and 9"
   ]
  },
  {
   "cell_type": "code",
   "execution_count": 6,
   "metadata": {},
   "outputs": [],
   "source": [
    "from matplotlib import pyplot as plt\n",
    "\n",
    "# to segment the classes we would like to use\n",
    "train_idx = np.where((y_train == 3) | (y_train == 9))\n",
    "test_idx = np.where((y_test == 3) | (y_test == 9))\n",
    "\n",
    "X_train, y_train = X_train[train_idx], y_train[train_idx]\n",
    "X_test, y_test = X_test[test_idx], y_test[test_idx]"
   ]
  },
  {
   "cell_type": "code",
   "execution_count": 7,
   "metadata": {},
   "outputs": [
    {
     "name": "stdout",
     "output_type": "stream",
     "text": [
      "Training set: X of size (12080, 784), y of size (12080,)\n",
      "Test set: X of size (2019, 784), y of size (2019,)\n"
     ]
    }
   ],
   "source": [
    "# check sliced datasets\n",
    "print(\"Training set: X of size {0}, y of size {1}\".format(X_train.shape, y_train.shape))\n",
    "print(\"Test set: X of size {0}, y of size {1}\".format(X_test.shape, y_test.shape))"
   ]
  },
  {
   "cell_type": "markdown",
   "metadata": {},
   "source": [
    "### Step 3: Some checks"
   ]
  },
  {
   "cell_type": "code",
   "execution_count": 14,
   "metadata": {},
   "outputs": [
    {
     "name": "stdout",
     "output_type": "stream",
     "text": [
      "Some sample images:\n"
     ]
    },
    {
     "data": {
      "image/png": "[encoded data removed]",
      "text/plain": [
       "<Figure size 288x288 with 1 Axes>"
      ]
     },
     "metadata": {
      "needs_background": "light"
     },
     "output_type": "display_data"
    },
    {
     "data": {
      "image/png": "[encoded data removed]",
      "text/plain": [
       "<Figure size 288x288 with 1 Axes>"
      ]
     },
     "metadata": {
      "needs_background": "light"
     },
     "output_type": "display_data"
    },
    {
     "data": {
      "image/png": "[encoded data removed]",
      "text/plain": [
       "<Figure size 288x288 with 1 Axes>"
      ]
     },
     "metadata": {
      "needs_background": "light"
     },
     "output_type": "display_data"
    },
    {
     "data": {
      "image/png": "[encoded data removed]",
      "text/plain": [
       "<Figure size 288x288 with 1 Axes>"
      ]
     },
     "metadata": {
      "needs_background": "light"
     },
     "output_type": "display_data"
    },
    {
     "data": {
      "image/png": "[encoded data removed]",
      "text/plain": [
       "<Figure size 288x288 with 1 Axes>"
      ]
     },
     "metadata": {
      "needs_background": "light"
     },
     "output_type": "display_data"
    }
   ],
   "source": [
    "# plotting some examples\n",
    "print(\"Some sample images:\")\n",
    "rnd_idx = np.random.randint(len(y_train), size=5)\n",
    "for idx in rnd_idx:\n",
    "    plt.matshow(X_train[idx].reshape(28, 28))"
   ]
  },
  {
   "cell_type": "code",
   "execution_count": 10,
   "metadata": {},
   "outputs": [
    {
     "name": "stdout",
     "output_type": "stream",
     "text": [
      "How many datapoints in class 3? 6131\n",
      "How many datapoints in class 9? 5949\n"
     ]
    }
   ],
   "source": [
    "for num in [3, 9]:\n",
    "    print(\"How many datapoints in class {0}?\".format(num), sum(y_train == num))"
   ]
  },
  {
   "cell_type": "markdown",
   "metadata": {},
   "source": [
    "Classes are pretty even so we can get reasonable conclusions from accuracy."
   ]
  },
  {
   "cell_type": "markdown",
   "metadata": {},
   "source": [
    "## Part 2: Validation metrics"
   ]
  },
  {
   "cell_type": "markdown",
   "metadata": {},
   "source": [
    "### Step 1: Error rate"
   ]
  },
  {
   "cell_type": "code",
   "execution_count": 11,
   "metadata": {},
   "outputs": [],
   "source": [
    "from sklearn.metrics import accuracy_score\n",
    "\n",
    "def eval_err(model, X_test, y_test):\n",
    "    pred = model.predict(X_test)\n",
    "    err_rate = 1 - accuracy_score(y_test, pred)\n",
    "    \n",
    "    return err_rate"
   ]
  },
  {
   "cell_type": "markdown",
   "metadata": {},
   "source": [
    "### Step 2: Grid search for best parameter"
   ]
  },
  {
   "cell_type": "code",
   "execution_count": 12,
   "metadata": {},
   "outputs": [],
   "source": [
    "import time\n",
    "\n",
    "def grid_search(model, X_train, y_train, X_test, y_test, hyperparams):\n",
    "    best_err = 1\n",
    "    best_params = 'default'\n",
    "    krnl = model.kernel\n",
    "\n",
    "    if krnl in ['linear', 'rbf', 'poly']:\n",
    "        for C in hyperparams['C']:\n",
    "            for gamma in hyperparams['gamma']:\n",
    "                 for deg in hyperparams['degree']:\n",
    "                    model.degree = deg if krnl == 'poly' else 1\n",
    "                    model.C = C\n",
    "                    model.gamma = gamma if krnl == 'rbf' else 'auto'\n",
    "                    \n",
    "                    print(\"Params deg={0}, C={1}, gamma={2}\".format(deg, C, gamma))\n",
    "                    start = time.time()\n",
    "                    model.fit(X_train, y_train)\n",
    "                    end = time.time()\n",
    "                    print(\"Training time:\", '%.2f'%(end - start), \"sec\")\n",
    "\n",
    "                    err = eval_err(model, X_test, y_test)\n",
    "                    print(\"Error rate:\", '%.5f'%err)\n",
    "                    print() # new line\n",
    "                    \n",
    "                    if err < best_err:\n",
    "                        best_err = err\n",
    "                        best_params = {\n",
    "                            'degree': deg,\n",
    "                            'C': C,\n",
    "                            'gamma': gamma\n",
    "                        }\n",
    "    else:\n",
    "        print(\"This kernel is not for assignment :)\")\n",
    "        return -1\n",
    "    \n",
    "    return best_params, best_err"
   ]
  },
  {
   "cell_type": "markdown",
   "metadata": {},
   "source": [
    "### Step 3: Output best result"
   ]
  },
  {
   "cell_type": "code",
   "execution_count": 18,
   "metadata": {},
   "outputs": [],
   "source": [
    "def best_res(model, best_err):\n",
    "    krnl = model.kernel\n",
    "    print(\"Best result achieved by {0} kernel is the error rate of {1}!\".format(krnl, '%5f'%best_err))"
   ]
  },
  {
   "cell_type": "markdown",
   "metadata": {},
   "source": [
    "## Part 3: Fitting models"
   ]
  },
  {
   "cell_type": "code",
   "execution_count": 2,
   "metadata": {},
   "outputs": [],
   "source": [
    "from sklearn import svm"
   ]
  },
  {
   "cell_type": "markdown",
   "metadata": {},
   "source": [
    "### Step 1: SVM with linear kernel"
   ]
  },
  {
   "cell_type": "code",
   "execution_count": 148,
   "metadata": {},
   "outputs": [
    {
     "name": "stdout",
     "output_type": "stream",
     "text": [
      "Params deg=1, C=0.01, gamma=auto\n",
      "Training time: 17.13 sec\n",
      "Error rate: 0.02526\n",
      "\n",
      "Params deg=1, C=0.1, gamma=auto\n",
      "Training time: 16.68 sec\n",
      "Error rate: 0.02526\n",
      "\n",
      "Params deg=1, C=1, gamma=auto\n",
      "Training time: 14.74 sec\n",
      "Error rate: 0.02526\n",
      "\n",
      "Params deg=1, C=10, gamma=auto\n",
      "Training time: 15.56 sec\n",
      "Error rate: 0.02526\n",
      "\n"
     ]
    }
   ],
   "source": [
    "grid_params_linear = {\n",
    "    'C': [0.01, 0.1, 1, 10],\n",
    "    'gamma': ['auto'],\n",
    "    'degree': [1]\n",
    "}\n",
    "\n",
    "\n",
    "clf_linear = svm.SVC(kernel='linear')\n",
    "params_linear, err_linear = grid_search(clf_linear, X_train, y_train, X_test, y_test, hyperparams=grid_params_linear)"
   ]
  },
  {
   "cell_type": "code",
   "execution_count": 157,
   "metadata": {},
   "outputs": [
    {
     "name": "stdout",
     "output_type": "stream",
     "text": [
      "Best result achieved by linear kernel is the error rate of 0.025260!\n"
     ]
    }
   ],
   "source": [
    "best_res(clf_linear, err_linear)"
   ]
  },
  {
   "cell_type": "markdown",
   "metadata": {},
   "source": [
    "### Step 2: SVM with polynomial kernel"
   ]
  },
  {
   "cell_type": "code",
   "execution_count": 149,
   "metadata": {},
   "outputs": [
    {
     "name": "stdout",
     "output_type": "stream",
     "text": [
      "Params deg=1, C=0.01, gamma=auto\n",
      "Training time: 11.11 sec\n",
      "Error rate: 0.01238\n",
      "\n",
      "Params deg=2, C=0.01, gamma=auto\n",
      "Training time: 8.08 sec\n",
      "Error rate: 0.00594\n",
      "\n",
      "Params deg=3, C=0.01, gamma=auto\n",
      "Training time: 7.53 sec\n",
      "Error rate: 0.00594\n",
      "\n",
      "Params deg=4, C=0.01, gamma=auto\n",
      "Training time: 7.67 sec\n",
      "Error rate: 0.00743\n",
      "\n",
      "Params deg=5, C=0.01, gamma=auto\n",
      "Training time: 8.39 sec\n",
      "Error rate: 0.00792\n",
      "\n",
      "Params deg=1, C=0.1, gamma=auto\n",
      "Training time: 13.87 sec\n",
      "Error rate: 0.01634\n",
      "\n",
      "Params deg=2, C=0.1, gamma=auto\n",
      "Training time: 7.49 sec\n",
      "Error rate: 0.00594\n",
      "\n",
      "Params deg=3, C=0.1, gamma=auto\n",
      "Training time: 8.12 sec\n",
      "Error rate: 0.00594\n",
      "\n",
      "Params deg=4, C=0.1, gamma=auto\n",
      "Training time: 8.76 sec\n",
      "Error rate: 0.00743\n",
      "\n",
      "Params deg=5, C=0.1, gamma=auto\n",
      "Training time: 9.16 sec\n",
      "Error rate: 0.00792\n",
      "\n",
      "Params deg=1, C=1, gamma=auto\n",
      "Training time: 15.39 sec\n",
      "Error rate: 0.02377\n",
      "\n",
      "Params deg=2, C=1, gamma=auto\n",
      "Training time: 7.23 sec\n",
      "Error rate: 0.00594\n",
      "\n",
      "Params deg=3, C=1, gamma=auto\n",
      "Training time: 7.30 sec\n",
      "Error rate: 0.00594\n",
      "\n",
      "Params deg=4, C=1, gamma=auto\n",
      "Training time: 7.57 sec\n",
      "Error rate: 0.00743\n",
      "\n",
      "Params deg=5, C=1, gamma=auto\n",
      "Training time: 8.10 sec\n",
      "Error rate: 0.00792\n",
      "\n",
      "Params deg=1, C=10, gamma=auto\n",
      "Training time: 17.73 sec\n",
      "Error rate: 0.02526\n",
      "\n",
      "Params deg=2, C=10, gamma=auto\n",
      "Training time: 8.62 sec\n",
      "Error rate: 0.00594\n",
      "\n",
      "Params deg=3, C=10, gamma=auto\n",
      "Training time: 8.54 sec\n",
      "Error rate: 0.00594\n",
      "\n",
      "Params deg=4, C=10, gamma=auto\n",
      "Training time: 8.73 sec\n",
      "Error rate: 0.00743\n",
      "\n",
      "Params deg=5, C=10, gamma=auto\n",
      "Training time: 8.68 sec\n",
      "Error rate: 0.00792\n",
      "\n"
     ]
    }
   ],
   "source": [
    "grid_params_poly = {\n",
    "    'C': [0.01, 0.1, 1, 10],\n",
    "    'gamma': ['auto'],\n",
    "    'degree': [1, 2, 3, 4, 5]\n",
    "}\n",
    "\n",
    "\n",
    "clf_poly = svm.SVC(kernel='poly', degree=3, gamma='scale')\n",
    "params_poly, err_poly = grid_search(clf_poly, X_train, y_train, X_test, y_test, hyperparams=grid_params_poly)"
   ]
  },
  {
   "cell_type": "code",
   "execution_count": 159,
   "metadata": {},
   "outputs": [
    {
     "name": "stdout",
     "output_type": "stream",
     "text": [
      "Best result achieved by poly kernel is the error rate of 0.005944!\n"
     ]
    }
   ],
   "source": [
    "best_res(clf_poly, err_poly)"
   ]
  },
  {
   "cell_type": "markdown",
   "metadata": {},
   "source": [
    "### Step 3: SVM with radial-basis function kernel"
   ]
  },
  {
   "cell_type": "code",
   "execution_count": 15,
   "metadata": {},
   "outputs": [
    {
     "name": "stdout",
     "output_type": "stream",
     "text": [
      "Params deg=1, C=0.01, gamma=0.01\n",
      "Training time: 163.63 sec\n",
      "Error rate: 0.49975\n",
      "\n",
      "Params deg=1, C=0.01, gamma=0.1\n",
      "Training time: 173.63 sec\n",
      "Error rate: 0.49975\n",
      "\n",
      "Params deg=1, C=0.01, gamma=1\n",
      "Training time: 188.92 sec\n",
      "Error rate: 0.49975\n",
      "\n",
      "Params deg=1, C=0.01, gamma=10\n",
      "Training time: 162.78 sec\n",
      "Error rate: 0.49975\n",
      "\n",
      "Params deg=1, C=0.1, gamma=0.01\n",
      "Training time: 229.65 sec\n",
      "Error rate: 0.49975\n",
      "\n",
      "Params deg=1, C=0.1, gamma=0.1\n",
      "Training time: 225.45 sec\n",
      "Error rate: 0.49975\n",
      "\n",
      "Params deg=1, C=0.1, gamma=1\n",
      "Training time: 226.64 sec\n",
      "Error rate: 0.49975\n",
      "\n",
      "Params deg=1, C=0.1, gamma=10\n",
      "Training time: 227.68 sec\n",
      "Error rate: 0.49975\n",
      "\n",
      "Params deg=1, C=1, gamma=0.01\n",
      "Training time: 312.05 sec\n",
      "Error rate: 0.49975\n",
      "\n",
      "Params deg=1, C=1, gamma=0.1\n",
      "Training time: 325.54 sec\n",
      "Error rate: 0.49975\n",
      "\n",
      "Params deg=1, C=1, gamma=1\n",
      "Training time: 364.55 sec\n",
      "Error rate: 0.49975\n",
      "\n",
      "Params deg=1, C=1, gamma=10\n",
      "Training time: 376.38 sec\n",
      "Error rate: 0.49975\n",
      "\n"
     ]
    }
   ],
   "source": [
    "grid_params_rbf = {\n",
    "    'C': [0.01, 0.1, 1],\n",
    "    'gamma': [0.01, 0.1, 1, 10],\n",
    "    'degree': [1]\n",
    "}\n",
    "\n",
    "clf_rbf = svm.SVC(kernel='rbf', C=1, gamma='scale')\n",
    "params_rbf, err_rbf = grid_search(clf_rbf, X_train, y_train, X_test, y_test, hyperparams=grid_params_rbf)"
   ]
  },
  {
   "cell_type": "code",
   "execution_count": 20,
   "metadata": {},
   "outputs": [
    {
     "name": "stdout",
     "output_type": "stream",
     "text": [
      "Best result achieved by rbf kernel is the error rate of 0.499752!\n"
     ]
    }
   ],
   "source": [
    "best_res(clf_rbf, err_rbf)"
   ]
  }
 ],
 "metadata": {
  "kernelspec": {
   "display_name": "Python 3",
   "language": "python",
   "name": "python3"
  },
  "language_info": {
   "codemirror_mode": {
    "name": "ipython",
    "version": 3
   },
   "file_extension": ".py",
   "mimetype": "text/x-python",
   "name": "python",
   "nbconvert_exporter": "python",
   "pygments_lexer": "ipython3",
   "version": "3.6.5"
  }
 },
 "nbformat": 4,
 "nbformat_minor": 2
}
