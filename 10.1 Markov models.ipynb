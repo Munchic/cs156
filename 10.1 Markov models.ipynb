{
 "cells": [
  {
   "cell_type": "code",
   "execution_count": 3,
   "metadata": {},
   "outputs": [
    {
     "data": {
      "text/plain": [
       "['language-test-3',\n",
       " 'language-training-langB-27',\n",
       " 'language-training-langB-18',\n",
       " 'language-training-langB-20',\n",
       " 'language-test-4',\n",
       " 'language-training-langB-16',\n",
       " 'language-training-langB-29',\n",
       " 'language-training-langB-11',\n",
       " 'language-training-langB-7',\n",
       " 'language-training-langB-0']"
      ]
     },
     "execution_count": 3,
     "metadata": {},
     "output_type": "execute_result"
    }
   ],
   "source": [
    "import os\n",
    "os.listdir('symbol')[:10]"
   ]
  },
  {
   "cell_type": "code",
   "execution_count": 14,
   "metadata": {},
   "outputs": [],
   "source": [
    "file = open('symbol/language-training-langB-20', 'r')"
   ]
  },
  {
   "cell_type": "code",
   "execution_count": 15,
   "metadata": {},
   "outputs": [
    {
     "data": {
      "text/plain": [
       "100"
      ]
     },
     "execution_count": 15,
     "metadata": {},
     "output_type": "execute_result"
    }
   ],
   "source": [
    "len(file.read())"
   ]
  },
  {
   "cell_type": "code",
   "execution_count": null,
   "metadata": {},
   "outputs": [],
   "source": [
    "import numpy as np\n",
    "\n",
    "def fit_markov(seq):\n",
    "    p = np.array((len(alph), len(alph)))\n",
    "    for i in range(1, len(seq)):\n",
    "        "
   ]
  },
  {
   "cell_type": "code",
   "execution_count": 16,
   "metadata": {},
   "outputs": [],
   "source": [
    "def classify_markov(chains, seq, alph):\n",
    "    p_seq_max = 0\n",
    "    idx_max = 0\n",
    "    \n",
    "    for idx, chain in enumerate(chains):\n",
    "        p_seq = 1\n",
    "        for char in seq:\n",
    "            obs = np.zeros(len(alph))\n",
    "            obs[alph.find(char)] = 1\n",
    "            post = np.dot(chains, obs.transpose())\n",
    "            p_seq *= np.max(post)\n",
    "        \n",
    "        if p_seq > p_seq_max:\n",
    "            p_seq_max = p_seq\n",
    "            idx_max = idx\n",
    "            \n",
    "    return idx_max "
   ]
  },
  {
   "cell_type": "code",
   "execution_count": null,
   "metadata": {},
   "outputs": [],
   "source": []
  }
 ],
 "metadata": {
  "kernelspec": {
   "display_name": "Python 3",
   "language": "python",
   "name": "python3"
  },
  "language_info": {
   "codemirror_mode": {
    "name": "ipython",
    "version": 3
   },
   "file_extension": ".py",
   "mimetype": "text/x-python",
   "name": "python",
   "nbconvert_exporter": "python",
   "pygments_lexer": "ipython3",
   "version": "3.6.5"
  }
 },
 "nbformat": 4,
 "nbformat_minor": 2
}
